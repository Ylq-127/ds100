{
 "cells": [
  {
   "cell_type": "markdown",
   "metadata": {},
   "source": [
    "Before you turn this assignment in, make sure everything runs as expected. First, **restart the kernel** (in the menubar, select Kernel$\\rightarrow$Restart) and then **run all cells** (in the menubar, select Cell$\\rightarrow$Run All). Lastly, hit **Validate**.\n",
    "\n",
    "If you worked locally, and then uploaded your work to the hub, make sure to follow these steps:\n",
    "- open your uploaded notebook **on the hub**\n",
    "- hit the validate button right above this cell, from inside the notebook\n",
    "\n",
    "These  steps should solve any issue related to submitting the notebook on the hub.\n",
    "\n",
    "Make sure you fill in any place that says `YOUR CODE HERE` or \"YOUR ANSWER HERE\", as well as your name and collaborators below:"
   ]
  },
  {
   "cell_type": "code",
   "execution_count": 1,
   "metadata": {},
   "outputs": [],
   "source": [
    "NAME = \"Vincent Chen\"\n",
    "COLLABORATORS = \"\""
   ]
  },
  {
   "cell_type": "markdown",
   "metadata": {},
   "source": [
    "---"
   ]
  },
  {
   "cell_type": "markdown",
   "metadata": {
    "deletable": false,
    "editable": false,
    "nbgrader": {
     "cell_type": "markdown",
     "checksum": "e9b95f0e3f952f2a69021b9e6257b0e0",
     "grade": false,
     "grade_id": "proj2",
     "locked": true,
     "schema_version": 2,
     "solution": false
    }
   },
   "source": [
    "# Project 2: Spam // Ham Prediction  \n",
    "\n",
    "## Due Date: 11:59pm Sunday, April 29\n",
    "\n",
    "In this project, you will use what you've learned in class to create a classifier that can distinguish spam (junk or commercial or bulk) emails from ham (non-spam) emails. In addition to providing some skeleton code to fill in, we will evaluate your work based on your model's accuracy and your written responses in this notebook.\n",
    "\n",
    "## Score breakdown\n",
    "\n",
    "Question | Points\n",
    "--- | ---\n",
    "Question 1 | 3\n",
    "Question 2 | 2\n",
    "Question 3a | 2\n",
    "Question 3b | 2\n",
    "Question 4 | 2\n",
    "Question 5 | 2\n",
    "Question 6 | 9\n",
    "Question 7 | 6\n",
    "Question 8 | 6\n",
    "Question 9 | 3\n",
    "Question 10 | 5\n",
    "Total | 42"
   ]
  },
  {
   "cell_type": "markdown",
   "metadata": {
    "deletable": false,
    "editable": false,
    "nbgrader": {
     "cell_type": "markdown",
     "checksum": "13d4b9efb57a66ecdde4f5c2e2bcc526",
     "grade": false,
     "grade_id": "p1",
     "locked": true,
     "schema_version": 2,
     "solution": false
    }
   },
   "source": [
    "# Part I - Initial Analysis"
   ]
  },
  {
   "cell_type": "code",
   "execution_count": 2,
   "metadata": {
    "deletable": false,
    "editable": false,
    "nbgrader": {
     "cell_type": "code",
     "checksum": "86334642abec944a9d6c8299e6ba5896",
     "grade": false,
     "grade_id": "imports",
     "locked": true,
     "schema_version": 2,
     "solution": false
    }
   },
   "outputs": [],
   "source": [
    "import numpy as np\n",
    "import pandas as pd\n",
    "\n",
    "import matplotlib.pyplot as plt\n",
    "%matplotlib inline\n",
    "\n",
    "import seaborn as sns\n",
    "sns.set(style = \"whitegrid\", \n",
    "        color_codes = True,\n",
    "        font_scale = 1.5)"
   ]
  },
  {
   "cell_type": "markdown",
   "metadata": {
    "deletable": false,
    "editable": false,
    "nbgrader": {
     "cell_type": "markdown",
     "checksum": "5d3fe1dd9f7bc02dfe273dc477925ec5",
     "grade": false,
     "grade_id": "loading",
     "locked": true,
     "schema_version": 2,
     "solution": false
    }
   },
   "source": [
    "### Loading in the Data\n",
    "\n",
    "The dataset consists of email messages and their labels (0 for ham, 1 for spam). Your labelled dataset contains 8348 labelled examples, and the evaluation set contains 1000 unlabelled examples.\n",
    "\n",
    "Run the following cells to load in the data into DataFrames.\n",
    "\n",
    "The `train` DataFrame contains labelled data that you will use to train your model. It contains three columns:\n",
    "\n",
    "1. `id`: An identifier for the training example.\n",
    "1. `subject`: The subject of the email\n",
    "1. `email`: The text of the email.\n",
    "1. `spam`: 1 if the email was spam, 0 if the email was ham (not spam).\n",
    "\n",
    "The `evaluation` DataFrame contains another set of 1000 unlabelled examples. You will predict labels for these examples and submit your predictions to Kaggle for evaluation."
   ]
  },
  {
   "cell_type": "code",
   "execution_count": 3,
   "metadata": {
    "deletable": false,
    "editable": false,
    "nbgrader": {
     "cell_type": "code",
     "checksum": "553fddfce24f4d89fd7ad907a7b22d28",
     "grade": false,
     "grade_id": "fetch-data",
     "locked": true,
     "schema_version": 2,
     "solution": false
    }
   },
   "outputs": [
    {
     "name": "stdout",
     "output_type": "stream",
     "text": [
      "Using version already downloaded: Tue Apr 17 04:45:53 2018\n",
      "MD5 hash of file: 0380c4cf72746622947b9ca5db9b8be8\n",
      "Using version already downloaded: Tue Apr 17 04:45:55 2018\n",
      "MD5 hash of file: a2e7abd8c7d9abf6e6fafc1d1f9ee6bf\n"
     ]
    },
    {
     "data": {
      "text/html": [
       "<div>\n",
       "<style scoped>\n",
       "    .dataframe tbody tr th:only-of-type {\n",
       "        vertical-align: middle;\n",
       "    }\n",
       "\n",
       "    .dataframe tbody tr th {\n",
       "        vertical-align: top;\n",
       "    }\n",
       "\n",
       "    .dataframe thead th {\n",
       "        text-align: right;\n",
       "    }\n",
       "</style>\n",
       "<table border=\"1\" class=\"dataframe\">\n",
       "  <thead>\n",
       "    <tr style=\"text-align: right;\">\n",
       "      <th></th>\n",
       "      <th>id</th>\n",
       "      <th>subject</th>\n",
       "      <th>email</th>\n",
       "      <th>spam</th>\n",
       "    </tr>\n",
       "  </thead>\n",
       "  <tbody>\n",
       "    <tr>\n",
       "      <th>0</th>\n",
       "      <td>0</td>\n",
       "      <td>Subject: A&amp;L Daily to be auctioned in bankrupt...</td>\n",
       "      <td>url: http://boingboing.net/#85534171\\n date: n...</td>\n",
       "      <td>0</td>\n",
       "    </tr>\n",
       "    <tr>\n",
       "      <th>1</th>\n",
       "      <td>1</td>\n",
       "      <td>Subject: Wired: \"Stronger ties between ISPs an...</td>\n",
       "      <td>url: http://scriptingnews.userland.com/backiss...</td>\n",
       "      <td>0</td>\n",
       "    </tr>\n",
       "    <tr>\n",
       "      <th>2</th>\n",
       "      <td>2</td>\n",
       "      <td>Subject: It's just too small                  ...</td>\n",
       "      <td>&lt;html&gt;\\n &lt;head&gt;\\n &lt;/head&gt;\\n &lt;body&gt;\\n &lt;font siz...</td>\n",
       "      <td>1</td>\n",
       "    </tr>\n",
       "    <tr>\n",
       "      <th>3</th>\n",
       "      <td>3</td>\n",
       "      <td>Subject: liberal defnitions\\n</td>\n",
       "      <td>depends on how much over spending vs. how much...</td>\n",
       "      <td>0</td>\n",
       "    </tr>\n",
       "    <tr>\n",
       "      <th>4</th>\n",
       "      <td>4</td>\n",
       "      <td>Subject: RE: [ILUG] Newbie seeks advice - Suse...</td>\n",
       "      <td>hehe sorry but if you hit caps lock twice the ...</td>\n",
       "      <td>0</td>\n",
       "    </tr>\n",
       "  </tbody>\n",
       "</table>\n",
       "</div>"
      ],
      "text/plain": [
       "   id                                            subject  \\\n",
       "0   0  Subject: A&L Daily to be auctioned in bankrupt...   \n",
       "1   1  Subject: Wired: \"Stronger ties between ISPs an...   \n",
       "2   2  Subject: It's just too small                  ...   \n",
       "3   3                      Subject: liberal defnitions\\n   \n",
       "4   4  Subject: RE: [ILUG] Newbie seeks advice - Suse...   \n",
       "\n",
       "                                               email  spam  \n",
       "0  url: http://boingboing.net/#85534171\\n date: n...     0  \n",
       "1  url: http://scriptingnews.userland.com/backiss...     0  \n",
       "2  <html>\\n <head>\\n </head>\\n <body>\\n <font siz...     1  \n",
       "3  depends on how much over spending vs. how much...     0  \n",
       "4  hehe sorry but if you hit caps lock twice the ...     0  "
      ]
     },
     "execution_count": 3,
     "metadata": {},
     "output_type": "execute_result"
    }
   ],
   "source": [
    "from utils import fetch_and_cache_gdrive\n",
    "fetch_and_cache_gdrive('1SCASpLZFKCp2zek-toR3xeKX3DZnBSyp', 'train.csv')\n",
    "fetch_and_cache_gdrive('1ZDFo9OTF96B5GP2Nzn8P8-AL7CTQXmC0', 'eval.csv')\n",
    "\n",
    "original_training_data = pd.read_csv('data/train.csv')\n",
    "evaluation = pd.read_csv('data/eval.csv')\n",
    "\n",
    "# Convert the emails to lower case as a first step to processing the text\n",
    "original_training_data['email'] = original_training_data['email'].str.lower()\n",
    "evaluation['email'] = evaluation['email'].str.lower()\n",
    "\n",
    "original_training_data.head()"
   ]
  },
  {
   "cell_type": "code",
   "execution_count": 4,
   "metadata": {},
   "outputs": [],
   "source": [
    "evaluation['email_upper'] = pd.read_csv('data/eval.csv').email"
   ]
  },
  {
   "cell_type": "markdown",
   "metadata": {
    "deletable": false,
    "editable": false,
    "nbgrader": {
     "cell_type": "markdown",
     "checksum": "cd636166056f9007afa15fb14e1add52",
     "grade": false,
     "grade_id": "train-test",
     "locked": true,
     "schema_version": 2,
     "solution": false
    }
   },
   "source": [
    "## Train-Test Split\n",
    "\n",
    "The training data we downloaded is all the data we have available for both training models and **testing** the models that we train.  We therefore need to split the training data into separate training and test datsets.  You will need this **test data** to evaluate your model once you are finished training."
   ]
  },
  {
   "cell_type": "code",
   "execution_count": 5,
   "metadata": {
    "deletable": false,
    "editable": false,
    "nbgrader": {
     "cell_type": "code",
     "checksum": "2f91e8f002a63bc72069c5ac957ca5b4",
     "grade": false,
     "grade_id": "train-test-code",
     "locked": true,
     "schema_version": 2,
     "solution": false
    }
   },
   "outputs": [],
   "source": [
    "from sklearn.model_selection import train_test_split\n",
    "\n",
    "[train, test] = train_test_split(original_training_data, test_size=0.1, random_state=42)"
   ]
  },
  {
   "cell_type": "code",
   "execution_count": 6,
   "metadata": {},
   "outputs": [
    {
     "name": "stderr",
     "output_type": "stream",
     "text": [
      "/srv/conda/envs/data100/lib/python3.6/site-packages/ipykernel_launcher.py:3: SettingWithCopyWarning: \n",
      "A value is trying to be set on a copy of a slice from a DataFrame.\n",
      "Try using .loc[row_indexer,col_indexer] = value instead\n",
      "\n",
      "See the caveats in the documentation: http://pandas.pydata.org/pandas-docs/stable/indexing.html#indexing-view-versus-copy\n",
      "  This is separate from the ipykernel package so we can avoid doing imports until\n"
     ]
    }
   ],
   "source": [
    "[training, testing] = train_test_split(pd.read_csv('data/train.csv'), test_size=0.1, random_state=42)\n",
    "#pd.read_csv('data/train.csv')\n",
    "test['email_upper'] = testing.email"
   ]
  },
  {
   "cell_type": "markdown",
   "metadata": {
    "deletable": false,
    "editable": false,
    "nbgrader": {
     "cell_type": "markdown",
     "checksum": "e7b9da3ae60578672c9a42db28823c0a",
     "grade": false,
     "grade_id": "q1",
     "locked": true,
     "schema_version": 2,
     "solution": false
    }
   },
   "source": [
    "# Question 1\n",
    "\n",
    "In the cell below, print the text of the first ham and the first spam email in the training set. Then, discuss one thing you notice that is different between the two that might relate to the identification of spam."
   ]
  },
  {
   "cell_type": "code",
   "execution_count": 7,
   "metadata": {
    "deletable": false,
    "nbgrader": {
     "cell_type": "code",
     "checksum": "ff10a1144d9c5bff85dc2274907ce32c",
     "grade": false,
     "grade_id": "q1-answer",
     "locked": false,
     "schema_version": 2,
     "solution": true
    }
   },
   "outputs": [
    {
     "name": "stdout",
     "output_type": "stream",
     "text": [
      "First Ham:  while i was playing with the past issues, it annoyed me that there was\n",
      " no easy way to make the log stop growing (i don't mean to truncate it,\n",
      " i mean to just freeze it for a while).\n",
      " \n",
      " the following patch adds a new button to the log window, which allows\n",
      " the log to be switched on/off (the button says \"disable\" when the\n",
      " log is enabled, and the button disables it, and \"enable\" when the log\n",
      " is frozen, and the button enables it again).\n",
      " \n",
      " kre\n",
      " \n",
      " --- main.tcl\twed aug 21 15:01:48 2002\n",
      " +++ /usr/local/lib/exmh-2.5/main.tcl\twed aug 28 17:36:59 2002\n",
      " @@ -385,6 +385,9 @@\n",
      "  \texmhlogcreate\n",
      "  \twm withdraw $exmh(logtop)\n",
      "      }\n",
      " +    if {! $exmh(logwrite)} {\n",
      " +\treturn\n",
      " +    }\n",
      "      if [info exists exmh(log)] {\n",
      "  \tcatch {\n",
      "  #\t    $exmh(log) insert end \" [bw_delta] \"\n",
      " @@ -407,6 +410,9 @@\n",
      "      set exmh(logwindow) 1\n",
      "      exwin_toplevel .log \"exmh log\" log\n",
      "      set exmh(logtop) .log\n",
      " +    set exmh(logdisablebut) \\\n",
      " +\t[widget_addbut $exmh(logtop).but swap \"disable\" exmhlogtoggle]\n",
      " +    set exmh(logwrite) 1\n",
      "      widget_addbut $exmh(logtop).but trunc \"truncate\" exmhlogtrunc\n",
      "      widget_addbut $exmh(logtop).but save \"save to file\" exmhlogsave\n",
      "      set exmh(logyview) 1\n",
      " @@ -457,6 +463,12 @@\n",
      "      } msg] {\n",
      "  \texmh_status \"cannot save log: $msg\" error\n",
      "      }\n",
      " +}\n",
      " +proc exmhlogtoggle {} {\n",
      " +    global exmh\n",
      " +\n",
      " +    set exmh(logwrite) [expr ! $exmh(logwrite)]\n",
      " +    $exmh(logdisablebut) configure -text [lindex {\"enable \" disable} $exmh(logwrite)]\n",
      "  }\n",
      "  #### misc\n",
      "  \n",
      " \n",
      " \n",
      " \n",
      " \n",
      " _______________________________________________\n",
      " exmh-workers mailing list\n",
      " exmh-workers@redhat.com\n",
      " https://listman.redhat.com/mailman/listinfo/exmh-workers\n",
      " \n",
      "\n",
      "First Spam:  --===_secatt_000_1fuklemuttfusq\n",
      " content-type: text/plain; charset=\"us-ascii\"\n",
      " content-transfer-encoding: quoted-printable\n",
      " \n",
      " aluko martin\n",
      " 23 victoriagarden city=2c\n",
      " lagos-nigeria=2e\n",
      " \n",
      " attn=2e\n",
      " \n",
      " \n",
      " we have an immediate business proposal that involves us$34=2c700=2c000\n",
      " which we will like to invest under your custody=2e please=2c do not\n",
      " hesitate\n",
      " to send me an email=2c so as to discuss with you the details of the\n",
      " transaction=2fthe\n",
      " terms and condition of sharing regarding the business=2e\n",
      " your urgent response will be highly appreciated and will swiftly\n",
      " bring us\n",
      " to the commencement of the transaction=2e we hope to conclude this\n",
      " transaction\n",
      " within 10-12 working days=2e do not forget to contact me on receipt of\n",
      " this\n",
      " mail=2e and please ensure to maintain absolute confidentiality with\n",
      " regard to\n",
      " this\n",
      " pending transaction=2e i urgently await your response=2e\n",
      " \n",
      " best regards=2c\n",
      " \n",
      " aluko martin=2e\n",
      " \n",
      " -- \n",
      " \n",
      " \n",
      " --===_secatt_000_1fuklemuttfusq\n",
      " content-type: application/octet-stream; name=\"mailxs_list.lst\"\n",
      " content-transfer-encoding: base64\n",
      " content-disposition: attachment; filename=\"mailxs_list.lst\"\n",
      " \n",
      " \n",
      " --===_secatt_000_1fuklemuttfusq\n",
      " \n",
      "\n"
     ]
    }
   ],
   "source": [
    "# Print the text of the first ham and the first spam emails. Then, fill in your response in the q01 variable:\n",
    "first_ham = train[train.spam == 0].iloc[0].email\n",
    "first_spam = train[train.spam == 1].iloc[0].email\n",
    "print(\"First Ham: \", first_ham)\n",
    "print(\"First Spam: \", first_spam)"
   ]
  },
  {
   "cell_type": "code",
   "execution_count": 8,
   "metadata": {
    "deletable": false,
    "editable": false,
    "nbgrader": {
     "cell_type": "code",
     "checksum": "115ba1cae1be0d4c7a5e9b91526fcb19",
     "grade": true,
     "grade_id": "q1-tests",
     "locked": true,
     "points": 1,
     "schema_version": 2,
     "solution": false
    }
   },
   "outputs": [],
   "source": [
    "# This is a cell with just a comment but don't delete me if you want to get credit."
   ]
  },
  {
   "cell_type": "code",
   "execution_count": 9,
   "metadata": {},
   "outputs": [],
   "source": [
    "# # Uses BeautifulSoup to parse through emails and remove HTML.\n",
    "# # Returns cleaned up email in 'email_cleaned'.  \n",
    "# copy = train.copy()\n",
    "# try: \n",
    "#     from bs4 import BeautifulSoup\n",
    "# except ImportError:\n",
    "#     from bs4 import BeautifulSoup\n",
    "# for i in range(copy.shape[0]):\n",
    "#     if i == 1877:\n",
    "#         print(\"25%\")\n",
    "#     elif i == 1877*2:\n",
    "#         print(\"50%\")\n",
    "#     elif i == 1877*3:\n",
    "#         print(\"75%\")\n",
    "#     elif i == 7512:\n",
    "#         print(\"100%\")\n",
    "#     if '<html>' in copy.iloc[i].email:\n",
    "#         copy['email'].iloc[i] = ' '.join(BeautifulSoup(copy.iloc[i].email).get_text().split())\n",
    "# copy.rename(columns={'email': 'email_cleaned'}, inplace=True)\n",
    "# copy['email'] = original_training_data['email']\n",
    "# train = copy"
   ]
  },
  {
   "cell_type": "code",
   "execution_count": 8,
   "metadata": {},
   "outputs": [
    {
     "name": "stderr",
     "output_type": "stream",
     "text": [
      "/srv/conda/envs/data100/lib/python3.6/site-packages/ipykernel_launcher.py:2: SettingWithCopyWarning: \n",
      "A value is trying to be set on a copy of a slice from a DataFrame.\n",
      "Try using .loc[row_indexer,col_indexer] = value instead\n",
      "\n",
      "See the caveats in the documentation: http://pandas.pydata.org/pandas-docs/stable/indexing.html#indexing-view-versus-copy\n",
      "  \n",
      "/srv/conda/envs/data100/lib/python3.6/site-packages/ipykernel_launcher.py:3: SettingWithCopyWarning: \n",
      "A value is trying to be set on a copy of a slice from a DataFrame.\n",
      "Try using .loc[row_indexer,col_indexer] = value instead\n",
      "\n",
      "See the caveats in the documentation: http://pandas.pydata.org/pandas-docs/stable/indexing.html#indexing-view-versus-copy\n",
      "  This is separate from the ipykernel package so we can avoid doing imports until\n",
      "/srv/conda/envs/data100/lib/python3.6/site-packages/ipykernel_launcher.py:4: SettingWithCopyWarning: \n",
      "A value is trying to be set on a copy of a slice from a DataFrame.\n",
      "Try using .loc[row_indexer,col_indexer] = value instead\n",
      "\n",
      "See the caveats in the documentation: http://pandas.pydata.org/pandas-docs/stable/indexing.html#indexing-view-versus-copy\n",
      "  after removing the cwd from sys.path.\n",
      "/srv/conda/envs/data100/lib/python3.6/site-packages/ipykernel_launcher.py:5: SettingWithCopyWarning: \n",
      "A value is trying to be set on a copy of a slice from a DataFrame.\n",
      "Try using .loc[row_indexer,col_indexer] = value instead\n",
      "\n",
      "See the caveats in the documentation: http://pandas.pydata.org/pandas-docs/stable/indexing.html#indexing-view-versus-copy\n",
      "  \"\"\"\n",
      "/srv/conda/envs/data100/lib/python3.6/site-packages/ipykernel_launcher.py:6: SettingWithCopyWarning: \n",
      "A value is trying to be set on a copy of a slice from a DataFrame.\n",
      "Try using .loc[row_indexer,col_indexer] = value instead\n",
      "\n",
      "See the caveats in the documentation: http://pandas.pydata.org/pandas-docs/stable/indexing.html#indexing-view-versus-copy\n",
      "  \n",
      "/srv/conda/envs/data100/lib/python3.6/site-packages/ipykernel_launcher.py:7: SettingWithCopyWarning: \n",
      "A value is trying to be set on a copy of a slice from a DataFrame.\n",
      "Try using .loc[row_indexer,col_indexer] = value instead\n",
      "\n",
      "See the caveats in the documentation: http://pandas.pydata.org/pandas-docs/stable/indexing.html#indexing-view-versus-copy\n",
      "  import sys\n",
      "/srv/conda/envs/data100/lib/python3.6/site-packages/ipykernel_launcher.py:8: SettingWithCopyWarning: \n",
      "A value is trying to be set on a copy of a slice from a DataFrame.\n",
      "Try using .loc[row_indexer,col_indexer] = value instead\n",
      "\n",
      "See the caveats in the documentation: http://pandas.pydata.org/pandas-docs/stable/indexing.html#indexing-view-versus-copy\n",
      "  \n",
      "/srv/conda/envs/data100/lib/python3.6/site-packages/ipykernel_launcher.py:9: SettingWithCopyWarning: \n",
      "A value is trying to be set on a copy of a slice from a DataFrame.\n",
      "Try using .loc[row_indexer,col_indexer] = value instead\n",
      "\n",
      "See the caveats in the documentation: http://pandas.pydata.org/pandas-docs/stable/indexing.html#indexing-view-versus-copy\n",
      "  if __name__ == '__main__':\n",
      "/srv/conda/envs/data100/lib/python3.6/site-packages/ipykernel_launcher.py:10: SettingWithCopyWarning: \n",
      "A value is trying to be set on a copy of a slice from a DataFrame.\n",
      "Try using .loc[row_indexer,col_indexer] = value instead\n",
      "\n",
      "See the caveats in the documentation: http://pandas.pydata.org/pandas-docs/stable/indexing.html#indexing-view-versus-copy\n",
      "  # Remove the CWD from sys.path while we load stuff.\n",
      "/srv/conda/envs/data100/lib/python3.6/site-packages/ipykernel_launcher.py:12: SettingWithCopyWarning: \n",
      "A value is trying to be set on a copy of a slice from a DataFrame.\n",
      "Try using .loc[row_indexer,col_indexer] = value instead\n",
      "\n",
      "See the caveats in the documentation: http://pandas.pydata.org/pandas-docs/stable/indexing.html#indexing-view-versus-copy\n",
      "  if sys.path[0] == '':\n"
     ]
    }
   ],
   "source": [
    "# Cleans up emails for train.\n",
    "train['subject'] = train['subject'].fillna('') #Replaces 2 NaN's in Subject with 'Subject:'\n",
    "train['RE:'] = train.subject.str.lower().str.contains('re:').astype(int)\n",
    "train['FW:'] = train.subject.str.lower().str.contains('fw:').astype(int)\n",
    "train['subject_cleaned'] = train['subject']\n",
    "train['subject_cleaned'] = train['subject_cleaned'].str.replace('Re:', '')\n",
    "train['subject_cleaned'] = train['subject_cleaned'].str.replace('re:', '')\n",
    "train['subject_cleaned'] = train['subject_cleaned'].str.replace('Fw:', '')\n",
    "train['subject_cleaned'] = train['subject_cleaned'].str.replace('fw:', '')\n",
    "train['subject_cleaned'] = train['subject_cleaned'].str.replace('Subject:', '')\n",
    "[train1, test1] = train_test_split(pd.read_csv('data/train.csv'), test_size=0.1, random_state=42)\n",
    "train['email_upper'] = train1.email"
   ]
  },
  {
   "cell_type": "code",
   "execution_count": 9,
   "metadata": {},
   "outputs": [],
   "source": [
    "# Test and Evaluation feature_adding. \n",
    "def feature_adding(df):\n",
    "    df['subject'] = df['subject'].fillna('')\n",
    "    df['RE:'] = df.subject.str.lower().str.contains('re:').astype(int)\n",
    "    df['RE:'] = df['RE:'] == False \n",
    "    df['FW:'] = df.subject.str.lower().str.contains('fw:').astype(int)\n",
    "    df['FW:'] = df['FW:'] == False \n",
    "    df['subject_cleaned'] = df['subject']\n",
    "    df['subject_cleaned'] = df['subject_cleaned'].str.replace('Re:', '')\n",
    "    df['subject_cleaned'] = df['subject_cleaned'].str.replace('re:', '')\n",
    "    df['subject_cleaned'] = df['subject_cleaned'].str.replace('Fw:', '')\n",
    "    df['subject_cleaned'] = df['subject_cleaned'].str.replace('fw:', '')\n",
    "    df['subject_cleaned'] = df['subject_cleaned'].str.replace('Subject:', '')"
   ]
  },
  {
   "cell_type": "code",
   "execution_count": 15,
   "metadata": {},
   "outputs": [
    {
     "name": "stderr",
     "output_type": "stream",
     "text": [
      "/srv/conda/envs/data100/lib/python3.6/site-packages/ipykernel_launcher.py:3: SettingWithCopyWarning: \n",
      "A value is trying to be set on a copy of a slice from a DataFrame.\n",
      "Try using .loc[row_indexer,col_indexer] = value instead\n",
      "\n",
      "See the caveats in the documentation: http://pandas.pydata.org/pandas-docs/stable/indexing.html#indexing-view-versus-copy\n",
      "  This is separate from the ipykernel package so we can avoid doing imports until\n",
      "/srv/conda/envs/data100/lib/python3.6/site-packages/ipykernel_launcher.py:4: SettingWithCopyWarning: \n",
      "A value is trying to be set on a copy of a slice from a DataFrame.\n",
      "Try using .loc[row_indexer,col_indexer] = value instead\n",
      "\n",
      "See the caveats in the documentation: http://pandas.pydata.org/pandas-docs/stable/indexing.html#indexing-view-versus-copy\n",
      "  after removing the cwd from sys.path.\n",
      "/srv/conda/envs/data100/lib/python3.6/site-packages/ipykernel_launcher.py:5: SettingWithCopyWarning: \n",
      "A value is trying to be set on a copy of a slice from a DataFrame.\n",
      "Try using .loc[row_indexer,col_indexer] = value instead\n",
      "\n",
      "See the caveats in the documentation: http://pandas.pydata.org/pandas-docs/stable/indexing.html#indexing-view-versus-copy\n",
      "  \"\"\"\n",
      "/srv/conda/envs/data100/lib/python3.6/site-packages/ipykernel_launcher.py:6: SettingWithCopyWarning: \n",
      "A value is trying to be set on a copy of a slice from a DataFrame.\n",
      "Try using .loc[row_indexer,col_indexer] = value instead\n",
      "\n",
      "See the caveats in the documentation: http://pandas.pydata.org/pandas-docs/stable/indexing.html#indexing-view-versus-copy\n",
      "  \n",
      "/srv/conda/envs/data100/lib/python3.6/site-packages/ipykernel_launcher.py:7: SettingWithCopyWarning: \n",
      "A value is trying to be set on a copy of a slice from a DataFrame.\n",
      "Try using .loc[row_indexer,col_indexer] = value instead\n",
      "\n",
      "See the caveats in the documentation: http://pandas.pydata.org/pandas-docs/stable/indexing.html#indexing-view-versus-copy\n",
      "  import sys\n",
      "/srv/conda/envs/data100/lib/python3.6/site-packages/ipykernel_launcher.py:8: SettingWithCopyWarning: \n",
      "A value is trying to be set on a copy of a slice from a DataFrame.\n",
      "Try using .loc[row_indexer,col_indexer] = value instead\n",
      "\n",
      "See the caveats in the documentation: http://pandas.pydata.org/pandas-docs/stable/indexing.html#indexing-view-versus-copy\n",
      "  \n",
      "/srv/conda/envs/data100/lib/python3.6/site-packages/ipykernel_launcher.py:9: SettingWithCopyWarning: \n",
      "A value is trying to be set on a copy of a slice from a DataFrame.\n",
      "Try using .loc[row_indexer,col_indexer] = value instead\n",
      "\n",
      "See the caveats in the documentation: http://pandas.pydata.org/pandas-docs/stable/indexing.html#indexing-view-versus-copy\n",
      "  if __name__ == '__main__':\n",
      "/srv/conda/envs/data100/lib/python3.6/site-packages/ipykernel_launcher.py:10: SettingWithCopyWarning: \n",
      "A value is trying to be set on a copy of a slice from a DataFrame.\n",
      "Try using .loc[row_indexer,col_indexer] = value instead\n",
      "\n",
      "See the caveats in the documentation: http://pandas.pydata.org/pandas-docs/stable/indexing.html#indexing-view-versus-copy\n",
      "  # Remove the CWD from sys.path while we load stuff.\n",
      "/srv/conda/envs/data100/lib/python3.6/site-packages/ipykernel_launcher.py:11: SettingWithCopyWarning: \n",
      "A value is trying to be set on a copy of a slice from a DataFrame.\n",
      "Try using .loc[row_indexer,col_indexer] = value instead\n",
      "\n",
      "See the caveats in the documentation: http://pandas.pydata.org/pandas-docs/stable/indexing.html#indexing-view-versus-copy\n",
      "  # This is added back by InteractiveShellApp.init_path()\n",
      "/srv/conda/envs/data100/lib/python3.6/site-packages/ipykernel_launcher.py:12: SettingWithCopyWarning: \n",
      "A value is trying to be set on a copy of a slice from a DataFrame.\n",
      "Try using .loc[row_indexer,col_indexer] = value instead\n",
      "\n",
      "See the caveats in the documentation: http://pandas.pydata.org/pandas-docs/stable/indexing.html#indexing-view-versus-copy\n",
      "  if sys.path[0] == '':\n",
      "/srv/conda/envs/data100/lib/python3.6/site-packages/ipykernel_launcher.py:13: SettingWithCopyWarning: \n",
      "A value is trying to be set on a copy of a slice from a DataFrame.\n",
      "Try using .loc[row_indexer,col_indexer] = value instead\n",
      "\n",
      "See the caveats in the documentation: http://pandas.pydata.org/pandas-docs/stable/indexing.html#indexing-view-versus-copy\n",
      "  del sys.path[0]\n"
     ]
    }
   ],
   "source": [
    "feature_adding(test)\n",
    "feature_adding(evaluation)\n",
    "feature_adding(train)"
   ]
  },
  {
   "cell_type": "code",
   "execution_count": 11,
   "metadata": {},
   "outputs": [
    {
     "name": "stderr",
     "output_type": "stream",
     "text": [
      "/srv/conda/envs/data100/lib/python3.6/site-packages/ipykernel_launcher.py:2: SettingWithCopyWarning: \n",
      "A value is trying to be set on a copy of a slice from a DataFrame.\n",
      "Try using .loc[row_indexer,col_indexer] = value instead\n",
      "\n",
      "See the caveats in the documentation: http://pandas.pydata.org/pandas-docs/stable/indexing.html#indexing-view-versus-copy\n",
      "  \n",
      "/srv/conda/envs/data100/lib/python3.6/site-packages/ipykernel_launcher.py:3: SettingWithCopyWarning: \n",
      "A value is trying to be set on a copy of a slice from a DataFrame.\n",
      "Try using .loc[row_indexer,col_indexer] = value instead\n",
      "\n",
      "See the caveats in the documentation: http://pandas.pydata.org/pandas-docs/stable/indexing.html#indexing-view-versus-copy\n",
      "  This is separate from the ipykernel package so we can avoid doing imports until\n"
     ]
    }
   ],
   "source": [
    "# Created column for spam and ham for subject word length, email length, emailed_cleaned length \n",
    "train['subj_len'] = train.subject.str.split().str.len()\n",
    "train['email_len'] = train.email.str.split().str.len()\n",
    "#train['email_cleaned_len'] = train.email_cleaned.str.split().str.len()"
   ]
  },
  {
   "cell_type": "markdown",
   "metadata": {
    "deletable": false,
    "nbgrader": {
     "cell_type": "markdown",
     "checksum": "cc6c8ddb4b03754a64382c725dafc5b0",
     "grade": true,
     "grade_id": "q1-written",
     "locked": false,
     "points": 2,
     "schema_version": 2,
     "solution": true
    },
    "tags": [
     "solution",
     "written",
     "q01"
    ]
   },
   "source": [
    "Spam email contains random \"=2_\" content throughout that are awkwardly placed, whereas in the ham, the email doesn't contain such random obstructions. If we are able to do some natural language processing on the emails and identify the random inputs, such as the one above, we will be able to classify one from the other."
   ]
  },
  {
   "cell_type": "markdown",
   "metadata": {
    "deletable": false,
    "editable": false,
    "nbgrader": {
     "cell_type": "markdown",
     "checksum": "78b2a5de9976f0492e4325d88e131a47",
     "grade": false,
     "grade_id": "feat-eng",
     "locked": true,
     "schema_version": 2,
     "solution": false
    }
   },
   "source": [
    "# Basic Feature Engineering\n",
    "\n",
    "We would like to take the text of an email and predict whether the text is ham or spam. This is a *classification* problem, so we can use logistic regression to make a classifier. Recall that to train an logistic regression model we need a numeric feature matrix $\\Phi$ (pronounced phi as in wifi) and corresponding binary labels $Y$.  Unfortunately, our data are text, not numbers. To address this, we can create numeric features derived from the email text and use those features for logistic regression.\n",
    "\n",
    "Each row of $\\Phi$ is derived from one email example. Each column of $\\Phi$  is one feature. We'll guide you through creating a simple feature, and you'll create more interesting ones when you are trying to increase your accuracy."
   ]
  },
  {
   "cell_type": "markdown",
   "metadata": {
    "deletable": false,
    "editable": false,
    "nbgrader": {
     "cell_type": "markdown",
     "checksum": "4a6a1160d34bedff1e1a0859a58bf70e",
     "grade": false,
     "grade_id": "q2",
     "locked": true,
     "schema_version": 2,
     "solution": false
    }
   },
   "source": [
    "# Question 2\n",
    "\n",
    "Create a function called `words_in_texts` that takes in a list of `words` and a pandas Series of email `texts`. It should output a 2-dimensional NumPy array containing one row for each email text. The row should contain either a 0 or a 1 for each word in the list: 0 if the word doesn't appear in the text and 1 if the word does. For example:\n",
    "\n",
    "```python\n",
    ">>> words_in_texts(['hello', 'bye', 'world'], \n",
    "                   pd.Series(['hello', 'hello world hello']))\n",
    "\n",
    "array([[1, 0, 0],\n",
    "       [1, 0, 1]])\n",
    "```"
   ]
  },
  {
   "cell_type": "code",
   "execution_count": 12,
   "metadata": {
    "deletable": false,
    "nbgrader": {
     "cell_type": "code",
     "checksum": "296207c542908dd11c481c4f56585743",
     "grade": false,
     "grade_id": "q2-answer",
     "locked": false,
     "schema_version": 2,
     "solution": true
    },
    "tags": [
     "student"
    ]
   },
   "outputs": [],
   "source": [
    "def words_in_texts(words, texts):\n",
    "    '''\n",
    "    Args:\n",
    "        words (list-like): words to find\n",
    "        texts (Series): strings to search in\n",
    "    \n",
    "    Returns:\n",
    "        NumPy array of 0s and 1s with shape (n, p) where n is the\n",
    "        number of texts and p is the number of words.\n",
    "    '''\n",
    "    l = list()\n",
    "    for w in words:\n",
    "        l.append(texts.str.contains(w).astype(int))\n",
    "    indicator_array = np.asarray(l).T\n",
    "    return indicator_array"
   ]
  },
  {
   "cell_type": "code",
   "execution_count": 13,
   "metadata": {},
   "outputs": [
    {
     "data": {
      "text/plain": [
       "array([[1, 0, 0],\n",
       "       [1, 0, 1]])"
      ]
     },
     "execution_count": 13,
     "metadata": {},
     "output_type": "execute_result"
    }
   ],
   "source": [
    "words_in_texts(['hello', 'bye', 'world'], pd.Series(['hello', 'hello world hello']))"
   ]
  },
  {
   "cell_type": "code",
   "execution_count": 14,
   "metadata": {
    "deletable": false,
    "editable": false,
    "nbgrader": {
     "cell_type": "code",
     "checksum": "6b8eb808ad9b99843c8cd3ad5d20b736",
     "grade": true,
     "grade_id": "q2-tests",
     "locked": true,
     "points": 2,
     "schema_version": 2,
     "solution": false
    },
    "tags": [
     "solution"
    ]
   },
   "outputs": [],
   "source": [
    "# If this doesn't error, your function outputs the correct output for this example\n",
    "assert np.allclose(words_in_texts(['hello', 'bye', 'world'], \n",
    "                                  pd.Series(['hello', 'hello world hello'])),\n",
    "                   np.array([[1, 0, 0], \n",
    "                             [1, 0, 1]]))"
   ]
  },
  {
   "cell_type": "markdown",
   "metadata": {
    "deletable": false,
    "editable": false,
    "nbgrader": {
     "cell_type": "markdown",
     "checksum": "2bacca07aa9b367ec84957d0beb41886",
     "grade": false,
     "grade_id": "eda",
     "locked": true,
     "schema_version": 2,
     "solution": false
    }
   },
   "source": [
    "# Basic EDA\n",
    "\n",
    "Now we need to identify some features that allow us to tell spam and ham emails apart. One idea is to compare the distribution of a single feature in spam emails to the distribution of the same feature in ham emails. If the feature is itself a binary indicator, such as whether a certain word occurs in the text, this amounts to comparing the proportion of spam emails with the word to the proportion of ham emails with the word.\n"
   ]
  },
  {
   "cell_type": "markdown",
   "metadata": {
    "deletable": false,
    "editable": false,
    "nbgrader": {
     "cell_type": "markdown",
     "checksum": "b13eddc109fc8ca94589381ffa188ae3",
     "grade": false,
     "grade_id": "q3a",
     "locked": true,
     "schema_version": 2,
     "solution": false
    }
   },
   "source": [
    "# Question 3a\n",
    "\n",
    "Create a bar chart comparing the proportion of spam and ham emails containing certain words. It should look like the following plot (which was created using `sns.barplot`), but you should choose your own words as candidate features.\n",
    "\n",
    "![training conditional proportions](training_conditional_proportions.png \"Class Conditional Proportions\")\n"
   ]
  },
  {
   "cell_type": "code",
   "execution_count": 18,
   "metadata": {},
   "outputs": [],
   "source": [
    "ham = train[train.spam == 0]\n",
    "spam = train[train.spam == 1] \n",
    "\n",
    "ham_len = ham.shape[0]   #5,595\n",
    "spam_len = spam.shape[0] #1,918"
   ]
  },
  {
   "cell_type": "code",
   "execution_count": 19,
   "metadata": {},
   "outputs": [],
   "source": [
    "# Returns dic of {word : freq}, and list of words sorted. \n",
    "def dic_sort(train, email_type):\n",
    "    dic = {}\n",
    "    for i in range(train.shape[0]):\n",
    "        email = train.iloc[i][email_type].split()\n",
    "        for word in set(email):\n",
    "            if word in dic:\n",
    "                dic[word] += 1\n",
    "            else:\n",
    "                dic[word] = 1\n",
    "    sort = sorted(dic, key=dic.get, reverse=True)\n",
    "    return dic, sort\n",
    "ham_dic, ham_sort = dic_sort(ham, 'email')\n",
    "spam_dic, spam_sort = dic_sort(spam, 'email')\n",
    "#ham_dic_clean, ham_sort_clean = dic_sort(ham, 'email_cleaned')\n",
    "#spam_dic_clean, spam_sort_clean = dic_sort(spam, 'email_cleaned')"
   ]
  },
  {
   "cell_type": "code",
   "execution_count": 20,
   "metadata": {},
   "outputs": [
    {
     "name": "stdout",
     "output_type": "stream",
     "text": [
      "SPAM: HTML Cleaned Word Frequency\n"
     ]
    }
   ],
   "source": [
    "# HTML Cleaned\n",
    "# Print % of word frequency from spam to ham \n",
    "print(\"SPAM: HTML Cleaned Word Frequency\")\n",
    "# l = list()\n",
    "# for i in spam_sort_clean:\n",
    "#     if i in ham_dic_clean:\n",
    "#         s = spam_dic_clean[i]/spam_len\n",
    "#         h = ham_dic_clean[i]/ham_len \n",
    "#         if s > 0.1 and h < 0.1 and s - h > 0.1:\n",
    "#             print(i, '= spam: ', s, ' ham: ', h)"
   ]
  },
  {
   "cell_type": "code",
   "execution_count": 21,
   "metadata": {},
   "outputs": [
    {
     "name": "stdout",
     "output_type": "stream",
     "text": [
      "HAM: HTML Cleaned Word Frequency\n"
     ]
    }
   ],
   "source": [
    "# HTML Cleaned\n",
    "# Print % of word frequency from spam to ham \n",
    "print(\"HAM: HTML Cleaned Word Frequency\")\n",
    "# for i in ham_sort_clean:\n",
    "#     if i in spam_dic_clean:\n",
    "#         s = spam_dic_clean[i]/spam_len\n",
    "#         h = ham_dic_clean[i]/ham_len \n",
    "#         if h > 0.1 and s < 0.05:\n",
    "#             print(i, '= ham: ', h, ' spam: ', s)"
   ]
  },
  {
   "cell_type": "code",
   "execution_count": 22,
   "metadata": {},
   "outputs": [
    {
     "name": "stdout",
     "output_type": "stream",
     "text": [
      "Word Frequency\n",
      "your = spam:  0.7367049009384776  ham:  0.3058087578194817\n",
      "our = spam:  0.6152241918665277  ham:  0.11277926720285969\n",
      "we = spam:  0.5265901981230449  ham:  0.2037533512064343\n",
      "please = spam:  0.48279457768508866  ham:  0.08543342269883825\n",
      "<a = spam:  0.4181438998957247  ham:  0.04986595174262735\n",
      "<html> = spam:  0.34410844629822734  ham:  0.031456657730116175\n",
      "<font = spam:  0.34358706986444215  ham:  0.04092940125111707\n",
      "</html> = spam:  0.33889468196037537  ham:  0.032171581769437\n"
     ]
    }
   ],
   "source": [
    "# HTML not cleaned \n",
    "# Print % of word frequency from spam to ham \n",
    "print(\"Word Frequency\")\n",
    "for i in spam_sort:\n",
    "    if i in ham_dic:\n",
    "        if spam_dic[i]/spam_len - ham_dic[i]/ham_len > 0.3:\n",
    "            print(i, '= spam: ', spam_dic[i]/spam_len, ' ham: ', ham_dic[i]/ham_len)"
   ]
  },
  {
   "cell_type": "code",
   "execution_count": 23,
   "metadata": {
    "deletable": false,
    "nbgrader": {
     "cell_type": "code",
     "checksum": "c64ceb5b31e1282f8c118e345108f1f2",
     "grade": true,
     "grade_id": "q3a-answer",
     "locked": false,
     "points": 2,
     "schema_version": 2,
     "solution": true
    }
   },
   "outputs": [
    {
     "data": {
      "image/png": "[encoded data removed]",
      "text/plain": [
       "<matplotlib.figure.Figure at 0x7f35b04fd6a0>"
      ]
     },
     "metadata": {},
     "output_type": "display_data"
    }
   ],
   "source": [
    "df = pd.DataFrame({'words': ['your', 'email', 'our', 'we', 'free', 'click'],\n",
    "                  'Ham': [ham_dic['your']/ham_len,\n",
    "                         ham_dic['email']/ham_len,\n",
    "                         ham_dic['our']/ham_len,\n",
    "                         ham_dic['we']/ham_len,\n",
    "                         ham_dic['free']/ham_len,\n",
    "                         ham_dic['click']/ham_len],\n",
    "                  'Spam': [spam_dic['your']/spam_len,\n",
    "                          spam_dic['email']/spam_len,\n",
    "                          spam_dic['our']/spam_len,\n",
    "                          spam_dic['we']/spam_len,\n",
    "                          spam_dic['free']/spam_len,\n",
    "                          spam_dic['click']/spam_len]})\n",
    "#ham spam = sex, words = first second third, data = proportion\n",
    "df = pd.melt(df, id_vars=\"words\", var_name=\"type\", value_name=\"proportion\")\n",
    "ax = sns.barplot(x='words', y='proportion', hue='type', data=df);\n",
    "ax.set(xlabel='', ylabel='Proportion of Emails');\n",
    "plt.ylim(0, 1);\n",
    "ax.legend();\n",
    "#sns.barplot(x=\"sex\", y=\"survived\", hue=\"class\", data=titanic);"
   ]
  },
  {
   "cell_type": "code",
   "execution_count": 24,
   "metadata": {},
   "outputs": [
    {
     "name": "stdout",
     "output_type": "stream",
     "text": [
      "Word Frequency of Subject: spam: 3892 ham: 5775\n"
     ]
    }
   ],
   "source": [
    "# Returns dic of {word : freq}, and list of words sorted. \n",
    "def dic_subj(df):\n",
    "    dic = {}\n",
    "    for i in range(df.shape[0]):\n",
    "        subject = df.iloc[i]['subject_cleaned'].split()\n",
    "        for word in set(subject):\n",
    "            if word in dic:\n",
    "                dic[word] += 1\n",
    "            else:\n",
    "                dic[word] = 1\n",
    "    sort = sorted(dic, key=dic.get, reverse=True)\n",
    "    return dic, sort\n",
    "ham_subj_dic, ham_subj_sort = dic_subj(ham)\n",
    "spam_subj_dic, spam_subj_sort = dic_subj(spam)\n",
    "# HTML not cleaned \n",
    "# Print % of word frequency from spam to ham \n",
    "print(\"Word Frequency of Subject: spam: \" + str(len(spam_subj_sort))\n",
    "      + \" ham: \"+ str(len(ham_subj_sort)))\n",
    "subj_words = {}\n",
    "for i in spam_subj_sort:\n",
    "    if i in ham_subj_dic:\n",
    "        if spam_subj_dic[i]/len(spam_subj_sort) - ham_subj_dic[i]/len(ham_subj_sort) > 0:\n",
    "            subj_words[i] = spam_subj_dic[i]/len(spam_subj_sort) - ham_subj_dic[i]/len(ham_subj_sort)\n",
    "subj_words = sorted(subj_words, key=subj_words.get, reverse=True)"
   ]
  },
  {
   "cell_type": "markdown",
   "metadata": {
    "deletable": false,
    "editable": false,
    "nbgrader": {
     "cell_type": "markdown",
     "checksum": "cacc657b9f84fe89c425797255849f69",
     "grade": false,
     "grade_id": "q3b",
     "locked": true,
     "schema_version": 2,
     "solution": false
    }
   },
   "source": [
    "# Question 3b\n",
    "\n",
    "When the feature is binary, it makes sense (as in the previous question) to compare the proportion of 1s in the two classes of email. Otherwise, if the feature can take on many values, it makes sense to compare the distribution under spam to the distribution under ham. Create a *class conditional density plot* like the one below (which was created using `sns.distplot`), comparing the distribution of a feature among all spam emails to the distribution of the same feature among all ham emails. **You may use the Fraction of Uppercase Letters or create your own feature.**\n",
    "\n",
    "![training conditional densities](training_conditional_densities2.png \"Class Conditional Densities\")"
   ]
  },
  {
   "cell_type": "code",
   "execution_count": 25,
   "metadata": {},
   "outputs": [],
   "source": [
    "clean = pd.read_csv('data/train.csv')\n",
    "[train_clean, test_clean] = train_test_split(clean, test_size=0.1, random_state=42)"
   ]
  },
  {
   "cell_type": "code",
   "execution_count": 26,
   "metadata": {
    "deletable": false,
    "nbgrader": {
     "cell_type": "code",
     "checksum": "60246643e0caaa562f6a6ac6814ae0c0",
     "grade": true,
     "grade_id": "q3b-answer",
     "locked": false,
     "points": 2,
     "schema_version": 2,
     "solution": true
    }
   },
   "outputs": [
    {
     "data": {
      "image/png": "[encoded data removed]",
      "text/plain": [
       "<matplotlib.figure.Figure at 0x7f35af6dff28>"
      ]
     },
     "metadata": {},
     "output_type": "display_data"
    }
   ],
   "source": [
    "import re\n",
    "ham_clean = train_clean[train_clean.spam == 0] #5,595\n",
    "spam_clean = train_clean[train_clean.spam == 1] #1,918\n",
    "\n",
    "ax = sns.distplot(ham_clean.email.str.findall(r'[A-Z]').str.len()/ham_clean.email.str.findall(r'[a-zA-Z]').str.len(), label='Ham');\n",
    "ax = sns.distplot(spam_clean.email.str.findall(r'[A-Z]').str.len()/spam_clean.email.str.findall(r'[a-zA-Z]').str.len(), label='Spam');\n",
    "\n",
    "ax.set(xlabel='Fraction of Uppercase Letters in Email');\n",
    "ax.legend();"
   ]
  },
  {
   "cell_type": "markdown",
   "metadata": {
    "deletable": false,
    "editable": false,
    "nbgrader": {
     "cell_type": "markdown",
     "checksum": "0d13d7ef0cdd07a7ad8d0a49cdddba9b",
     "grade": false,
     "grade_id": "classification",
     "locked": true,
     "schema_version": 2,
     "solution": false
    }
   },
   "source": [
    "# Basic Classification\n",
    "\n",
    "Notice that the output of `words_in_texts(words, train['email'])` is a numeric matrix containing features for each email. This means we can use it directly to train a classifier!"
   ]
  },
  {
   "cell_type": "markdown",
   "metadata": {
    "deletable": false,
    "editable": false,
    "nbgrader": {
     "cell_type": "markdown",
     "checksum": "a704638a2aa116d175cec5d54011390e",
     "grade": false,
     "grade_id": "q4",
     "locked": true,
     "schema_version": 2,
     "solution": false
    }
   },
   "source": [
    "# Question 4\n",
    "\n",
    "We've given you 5 words that might be useful as features to distinguish spam/ham emails. Use these words as well as the `train` DataFrame to create two NumPy arrays: `Phi_train` and `Y_train`.\n",
    "\n",
    "`Phi_train` should be a matrix of 0s and 1s created by using your `words_in_texts` function on all the emails in the training set.\n",
    "\n",
    "`Y_train` should be a vector of the correct labels for each email in the training set."
   ]
  },
  {
   "cell_type": "code",
   "execution_count": 27,
   "metadata": {
    "deletable": false,
    "nbgrader": {
     "cell_type": "code",
     "checksum": "8b93048015e15c7af26cd4a47e611109",
     "grade": false,
     "grade_id": "q4-answer",
     "locked": false,
     "schema_version": 2,
     "solution": true
    },
    "tags": [
     "student"
    ]
   },
   "outputs": [],
   "source": [
    "some_words = ['drug', 'bank', 'prescription', 'memo', 'private']\n",
    "\n",
    "Phi_train = words_in_texts(some_words, train.email) #7513,5\n",
    "Y_train = train.spam #7513"
   ]
  },
  {
   "cell_type": "code",
   "execution_count": 28,
   "metadata": {
    "deletable": false,
    "editable": false,
    "nbgrader": {
     "cell_type": "code",
     "checksum": "e379ae3ce1967f869f7d7e731ae0f75a",
     "grade": true,
     "grade_id": "q4-tests",
     "locked": true,
     "points": 2,
     "schema_version": 2,
     "solution": false
    }
   },
   "outputs": [],
   "source": [
    "assert np.all(np.unique(Phi_train) == np.array([0, 1]))\n",
    "assert np.all(np.unique(Y_train) == np.array([0, 1]))\n",
    "assert Phi_train.shape[0] == Y_train.shape[0]\n",
    "assert Phi_train.shape[1] == len(some_words)"
   ]
  },
  {
   "cell_type": "markdown",
   "metadata": {
    "deletable": false,
    "editable": false,
    "nbgrader": {
     "cell_type": "markdown",
     "checksum": "2d67277515ec86e13df560be7fb273f4",
     "grade": false,
     "grade_id": "q5",
     "locked": true,
     "schema_version": 2,
     "solution": false
    }
   },
   "source": [
    "# Question 5\n",
    "\n",
    "Now we have matrices we can give to scikit-learn! Using the [`LogisticRegression`](http://scikit-learn.org/stable/modules/generated/sklearn.linear_model.LogisticRegression.html) classifier, train a logistic regression model using `Phi_train` and `Y_train`. Then, output the accuracy of the model (on the training data) in the cell below. You should get an accuracy of around 0.75."
   ]
  },
  {
   "cell_type": "code",
   "execution_count": 29,
   "metadata": {
    "deletable": false,
    "nbgrader": {
     "cell_type": "code",
     "checksum": "a45837a9efac1b9ab3824f860e9ddc1a",
     "grade": false,
     "grade_id": "q5-answer",
     "locked": false,
     "schema_version": 2,
     "solution": true
    },
    "tags": [
     "student"
    ]
   },
   "outputs": [],
   "source": [
    "from sklearn import linear_model\n",
    "lm = linear_model.LogisticRegression()\n",
    "lm.fit(Phi_train, Y_train)\n",
    "predictions = lm.predict(Phi_train)\n",
    "training_accuracy = sum(predictions == Y_train) / len(Phi_train)"
   ]
  },
  {
   "cell_type": "code",
   "execution_count": 30,
   "metadata": {
    "deletable": false,
    "editable": false,
    "nbgrader": {
     "cell_type": "code",
     "checksum": "1133eaddd64442a3139615c57864c60e",
     "grade": true,
     "grade_id": "q5-tests",
     "locked": true,
     "points": 2,
     "schema_version": 2,
     "solution": false
    },
    "tags": [
     "solution"
    ]
   },
   "outputs": [],
   "source": [
    "assert training_accuracy > 0.72"
   ]
  },
  {
   "cell_type": "code",
   "execution_count": null,
   "metadata": {},
   "outputs": [],
   "source": []
  },
  {
   "cell_type": "markdown",
   "metadata": {
    "deletable": false,
    "editable": false,
    "nbgrader": {
     "cell_type": "markdown",
     "checksum": "2ccbf7ec8e32a2963fac3ca5624407d0",
     "grade": false,
     "grade_id": "q6",
     "locked": true,
     "schema_version": 2,
     "solution": false
    }
   },
   "source": [
    "# Question 6\n",
    "\n",
    "That doesn't seem too shabby! But the classifier you made above isn't as good as this might lead us to believe. First, we are evaluating on the training set, which may lead to a misleading accuracy measure, especially if we used the training set to identify discriminative features. In future parts of this analysis, it will be safer to hold out some of our data for model validation and comparison.\n",
    "\n",
    "Presumably, our classifier will be used for **filtering**, i.e. preventing messages labelled `spam` from reaching someone's inbox. Since we are trying  There are two kinds of errors we can make:\n",
    "- False positive (FP): a ham email gets flagged as spam and filtered out of the inbox.\n",
    "- False negative (FN): a spam email gets mislabelled as ham and ends up in the inbox.\n",
    "\n",
    "These definitions depend both on the true labels and the predicted labels. False positives and false negatives may be of differing importance, leading us to consider more ways of evaluating a classifier, in addition to overall accuracy:\n",
    "\n",
    "**Precision** measures the proportion $\\frac{\\text{TP}}{\\text{TP} + \\text{FP}}$ of emails flagged as spam that are actually spam.\n",
    "\n",
    "**Recall** measures the proportion $\\frac{\\text{TP}}{\\text{TP} + \\text{FN}}$ of spam emails that were correctly flagged as spam. \n",
    "\n",
    "**False-alarm rate** measures the proportion $\\frac{\\text{FP}}{\\text{FP} + \\text{TN}}$ of ham emails that were incorrectly flagged as spam. \n",
    "\n",
    "The following image might help:\n",
    "\n",
    "<img src=\"https://upload.wikimedia.org/wikipedia/commons/thumb/2/26/Precisionrecall.svg/700px-Precisionrecall.svg.png\" width=\"500px\">\n",
    "\n",
    "Note that a true positive (TP) is a spam email that is classified as spam, and a true negative (TN) is a ham email that is classified as ham. Answer the following questions in the cells below:\n",
    "\n",
    "- (a) Suppose we have a classifier that just predicts 0 (ham) for every email. How many false positives are there? How many false negatives are there? Provide specific numbers using the training data from Question 4.\n",
    "- (b) Suppose we have a classifier that just predicts 0 (ham) for every email. What is its accuracy on the training set? What is its recall on the training set?\n",
    "- (c) What are the precision, recall, and false-alarm rate of the logistic regression classifier in Question 5? Are there more false positives or false negatives? \n",
    "- (d) Our logistic regression classifier got 75.6% prediction accuracy (number of correct predictions / total). How does this compare with predicting 0 for every email?\n",
    "- (e) Given the word features we gave you above, name one reason this classifier is performing poorly.\n",
    "- (f) Which of these two classifiers would you prefer for a spam filter and why? (N.B. there is no \"right answer\" here but be thoughtful in your reasoning)."
   ]
  },
  {
   "cell_type": "code",
   "execution_count": 31,
   "metadata": {
    "deletable": false,
    "nbgrader": {
     "cell_type": "code",
     "checksum": "fb6be2a577f65651b583021d052505f3",
     "grade": false,
     "grade_id": "q6a-answer",
     "locked": false,
     "schema_version": 2,
     "solution": true
    }
   },
   "outputs": [],
   "source": [
    "# provide number of FP and FN, respectively,\n",
    "# for a classifier that always predicts 0 (never predicts positive...)\n",
    "zero_predictor_fp = 0 # Needs to be flagged as 1 to be spam, but classifier only predicts 0.\n",
    "zero_predictor_fn = sum(Y_train == 1)"
   ]
  },
  {
   "cell_type": "code",
   "execution_count": 32,
   "metadata": {
    "deletable": false,
    "editable": false,
    "nbgrader": {
     "cell_type": "code",
     "checksum": "4170e6f271d97eab6ab77523d0c9689c",
     "grade": true,
     "grade_id": "q6a-tests",
     "locked": true,
     "points": 2,
     "schema_version": 2,
     "solution": false
    }
   },
   "outputs": [],
   "source": [
    "# This is a cell with just a comment but don't delete me if you want to get credit."
   ]
  },
  {
   "cell_type": "code",
   "execution_count": 33,
   "metadata": {
    "deletable": false,
    "nbgrader": {
     "cell_type": "code",
     "checksum": "551cfb296a0d066ef7f88a4450cd56f2",
     "grade": false,
     "grade_id": "q6b-answer",
     "locked": false,
     "schema_version": 2,
     "solution": true
    }
   },
   "outputs": [
    {
     "data": {
      "text/plain": [
       "0.7447091707706642"
      ]
     },
     "execution_count": 33,
     "metadata": {},
     "output_type": "execute_result"
    }
   ],
   "source": [
    "# provide training accuracy & recall, respectively,\n",
    "# for a classifier that always predicts 0\n",
    "zero_predictor_acc = sum(Y_train == 0)/len(Y_train)\n",
    "zero_predictor_recall = 0 #TP is 0 in this case for prediction of 0\n",
    "\n",
    "sum(Y_train == 0)/len(Y_train)"
   ]
  },
  {
   "cell_type": "code",
   "execution_count": 34,
   "metadata": {
    "deletable": false,
    "editable": false,
    "nbgrader": {
     "cell_type": "code",
     "checksum": "2da0a2fd20e7773dc36190301cee53f5",
     "grade": true,
     "grade_id": "q6b-tests",
     "locked": true,
     "points": 2,
     "schema_version": 2,
     "solution": false
    }
   },
   "outputs": [],
   "source": [
    "# This is a cell with just a comment but don't delete me if you want to get credit."
   ]
  },
  {
   "cell_type": "code",
   "execution_count": 35,
   "metadata": {
    "deletable": false,
    "nbgrader": {
     "cell_type": "code",
     "checksum": "d3775f0397ec6a892683277ff9bb041d",
     "grade": false,
     "grade_id": "q6c-answer",
     "locked": false,
     "schema_version": 2,
     "solution": true
    }
   },
   "outputs": [],
   "source": [
    "# provide training accuracy & recall, respectively,\n",
    "# for logistic regression classifier from question 5\n",
    "TP = np.sum((pd.Series(predictions).values == 1) & (Y_train.reset_index()['spam'].values == 1))\n",
    "TN = np.sum((pd.Series(predictions).values == 0) & (Y_train.reset_index()['spam'].values == 0))\n",
    "FP = np.sum((pd.Series(predictions).values == 1) & (Y_train.reset_index()['spam'].values == 0))\n",
    "FN = np.sum((pd.Series(predictions).values == 0) & (Y_train.reset_index()['spam'].values == 1))\n",
    "logistic_predictor_precision = TP / (TP + FP)  \n",
    "logistic_predictor_recall = TP / (TP + FN)\n",
    "logistic_predictor_far = FP / (FP + TN)"
   ]
  },
  {
   "cell_type": "code",
   "execution_count": 36,
   "metadata": {
    "deletable": false,
    "editable": false,
    "nbgrader": {
     "cell_type": "code",
     "checksum": "1d5da8b3485c912e0e04d5a4cb125678",
     "grade": true,
     "grade_id": "q6c-tests",
     "locked": true,
     "points": 2,
     "schema_version": 2,
     "solution": false
    }
   },
   "outputs": [],
   "source": [
    "# This is a cell with just a comment but don't delete me if you want to get credit."
   ]
  },
  {
   "cell_type": "markdown",
   "metadata": {
    "deletable": false,
    "nbgrader": {
     "cell_type": "markdown",
     "checksum": "b0c889c63a8057b74c02d98a0b25e392",
     "grade": true,
     "grade_id": "q6-written",
     "locked": false,
     "points": 3,
     "schema_version": 2,
     "solution": true
    },
    "tags": [
     "solution",
     "written",
     "q06"
    ]
   },
   "source": [
    "(d) When prediction 0 for every email, we get a prediction accuracy of 74.47%.\n",
    "\n",
    "\n",
    "(e) The word features above are not words specific to spam or ham words, so thus it barely affects the prediction accuracy into correctly classifying the emails.\n",
    "\n",
    "\n",
    "(f) I would choose the zero predictor as my classifier. This is so because the recall rate of the zero predictor is 0, meaning that of all emails, about 74% of them are correctly labeled as ham. However, this means that none of my emails get accidentally classified as spam. The logistic predictor right now has nearly the same accuracy, and therefore, I wouldn't want actual important emails to be placed into the spam folder."
   ]
  },
  {
   "cell_type": "markdown",
   "metadata": {
    "deletable": false,
    "editable": false,
    "nbgrader": {
     "cell_type": "markdown",
     "checksum": "420d757256a0c1fd96228b7f622682bb",
     "grade": false,
     "grade_id": "p2",
     "locked": true,
     "schema_version": 2,
     "solution": false
    }
   },
   "source": [
    "# Part II - Moving Forward\n",
    "\n",
    "With this in mind, it is now your task to make the spam filter more accurate. In order to get full credit on the accuracy part of this assignment, you must get at least **88%** accuracy on the evaluation set. To see your accuracy on the evaluation set, you will use your classifier to predict every email in the `evaluation` DataFrame and upload your predictions to Kaggle.\n",
    "\n",
    "To prevent you from fitting to the evaluation set, you may only upload predictions to Kaggle twice per day. This means you should start early and rely on your **test data** to estimate your Kaggle scores.  \n",
    "\n",
    "Here are some ideas for improving your model:\n",
    "\n",
    "1. Finding better features based on the email text. Some example features are:\n",
    "    1. Number of characters in the subject / body\n",
    "    1. Number of words in the subject / body\n",
    "    1. Use of punctuation (e.g., how many '!' were there?)\n",
    "    1. Number / percentage of capital letters \n",
    "    1. Whether the email is a reply to an earlier email or a forwarded email\n",
    "1. Finding better words to use as features. Which words are the best at distinguishing emails? This requires digging into the email text itself. \n",
    "1. Better data processing. For example, many emails contain HTML as well as text. You can consider extracting out the text from the HTML to help you find better words. Or, you can match HTML tags themselves, or even some combination of the two.\n",
    "1. Model selection. You can adjust parameters of your model (e.g. the regularization parameter) to achieve higher accuracy. Recall that you should use cross-validation to do feature and model selection properly! Otherwise, you will likely overfit to your training data.\n",
    "\n",
    "You may use whatever method you prefer in order to create features. However, **you are only allowed to train logistic regression models and their regularized forms**. This means no random forest, k-nearest-neighbors, neural nets, etc.\n",
    "\n",
    "We will not give you a code skeleton to do this, so feel free to create as many cells as you need in order to tackle this task. However, answering questions 7, 8, and 9 should help guide you.\n",
    "\n",
    "---\n",
    "\n",
    "**Note:** *You should use the **test data** to evaluate your model and get a better sense of how it will perform on the Kaggle evaluation.*\n",
    "\n",
    "---"
   ]
  },
  {
   "cell_type": "code",
   "execution_count": 37,
   "metadata": {},
   "outputs": [],
   "source": [
    "# Email sorting. \n",
    "spam_dic = {} \n",
    "for i in range(spam_len):\n",
    "    email = spam.iloc[i].email.split()\n",
    "    for word in set(email):\n",
    "        if word in spam_dic:\n",
    "            spam_dic[word] += 1\n",
    "        else:\n",
    "            spam_dic[word] = 1\n",
    "spam_sorted = sorted(spam_dic, key=spam_dic.get, reverse=True)\n",
    "\n",
    "ham_dic = {} \n",
    "for i in range(ham_len):\n",
    "    email = ham.iloc[i].email.split()\n",
    "    for word in set(email):\n",
    "        if word in ham_dic:\n",
    "            ham_dic[word] += 1\n",
    "        else:\n",
    "            ham_dic[word] = 1\n",
    "ham_sorted = sorted(ham_dic, key=ham_dic.get, reverse=True)\n",
    "\n",
    "# Subject line word sorting. \n",
    "sub_dic = {}\n",
    "for i in range(spam_len):\n",
    "    sub = spam.iloc[i].subject.lower().split()\n",
    "    for word in sub:\n",
    "        if word in sub_dic:\n",
    "            sub_dic[word] += 1\n",
    "        else:\n",
    "            sub_dic[word] = 1\n",
    "sub_sorted = sorted(sub_dic, key=sub_dic.get, reverse=True)\n",
    "\n",
    "ham_sub_dic = {}\n",
    "for i in range(ham_len):\n",
    "    ham_sub = ham.iloc[i].subject.lower().split()\n",
    "    for word in ham_sub:\n",
    "        if word in ham_sub_dic:\n",
    "            ham_sub_dic[word] += 1\n",
    "        else:\n",
    "            ham_sub_dic[word] = 1\n",
    "ham_sub_sorted = sorted(ham_sub_dic, key=ham_sub_dic.get, reverse=True)"
   ]
  },
  {
   "cell_type": "code",
   "execution_count": 38,
   "metadata": {},
   "outputs": [
    {
     "name": "stdout",
     "output_type": "stream",
     "text": [
      "Ham Email % Difference\n",
      "it 0.2509889378737346\n",
      "i 0.36264037326638837\n",
      "> 0.37673617420589106\n",
      "but 0.3013755205610551\n",
      "-- 0.31517955570713835\n",
      "wrote: 0.2702561034589762\n",
      "\n",
      "Spam Email % Difference\n",
      "your 0.43089614311899593\n",
      "our 0.502444924663668\n",
      "we 0.3228368469166105\n",
      "please 0.3973611549862504\n",
      "<a 0.36827794815309733\n",
      "<html> 0.31265178856811116\n",
      "\n",
      "Ham Subject Line % Difference\n",
      "re: 0.4915333871949203\n",
      "\n",
      "Spam Data Line % Difference\n",
      "your 0.1488173281484567\n"
     ]
    }
   ],
   "source": [
    "print('Ham Email % Difference')\n",
    "for i in ham_sorted[:200]:\n",
    "    if i in spam_sorted:\n",
    "        val = ham_dic[i]/ham_len - spam_dic[i] / spam_len\n",
    "        if val > 0.25:\n",
    "            print(i, val)\n",
    "            \n",
    "print('\\nSpam Email % Difference')\n",
    "for i in spam_sorted[:200]:\n",
    "    if i in ham_sorted:\n",
    "        val = spam_dic[i] / spam_len - ham_dic[i]/ham_len\n",
    "        if val > 0.31:\n",
    "            print(i, val)\n",
    "\n",
    "print('\\nHam Subject Line % Difference')\n",
    "for i in ham_sub_sorted:\n",
    "    if i in sub_sorted:\n",
    "        val = ham_sub_dic[i]/ham_len-sub_dic[i]/spam_len\n",
    "        if val > 0.1:\n",
    "            print(i, val)\n",
    "\n",
    "print('\\nSpam Data Line % Difference')\n",
    "for i in sub_sorted:\n",
    "    if i in ham_sub_sorted:\n",
    "        val = sub_dic[i]/spam_len - ham_sub_dic[i]/ham_len\n",
    "        if val > 0.1:\n",
    "            print(i, val)"
   ]
  },
  {
   "cell_type": "code",
   "execution_count": 39,
   "metadata": {},
   "outputs": [],
   "source": [
    "# print('\\nSpam Email % Difference')\n",
    "# for i in spam_sorted[:200]:\n",
    "#     if i in ham_sorted:\n",
    "#         val = spam_dic[i] / spam_len - ham_dic[i]/ham_len\n",
    "#         if ham_dic[i]/ham_len < 0.15 and val > 0.25:\n",
    "#             print(i, val, spam_dic[i] / spam_len, ham_dic[i]/ham_len)"
   ]
  },
  {
   "cell_type": "code",
   "execution_count": 40,
   "metadata": {},
   "outputs": [],
   "source": [
    "# print('\\nSpam Email Cleaned % Difference')\n",
    "# for i in spam_sort_clean[:200]:\n",
    "#     if i in ham_sort_clean:\n",
    "#         val = spam_dic_clean[i] / spam_len - ham_dic_clean[i]/ham_len\n",
    "#         if ham_dic_clean[i]/ham_len < 0.15 and val > 0.25:\n",
    "#             print(i, val, spam_dic_clean[i] / spam_len, ham_dic_clean[i]/ham_len)"
   ]
  },
  {
   "cell_type": "code",
   "execution_count": 41,
   "metadata": {},
   "outputs": [
    {
     "name": "stdout",
     "output_type": "stream",
     "text": [
      "\n",
      "Spam Email % Difference\n"
     ]
    }
   ],
   "source": [
    "print('\\nSpam Email % Difference')\n",
    "a = {}\n",
    "total = 0 \n",
    "for i in spam_sorted:\n",
    "    if i == 'prospects':\n",
    "        break\n",
    "    if i in ham_sorted:\n",
    "        val = spam_dic[i] / spam_len - ham_dic[i]/ham_len\n",
    "        if val > 0:\n",
    "            a[i] = val\n",
    "spam_top = sorted(a, key=a.get, reverse=True)"
   ]
  },
  {
   "cell_type": "code",
   "execution_count": 42,
   "metadata": {},
   "outputs": [],
   "source": [
    "# print('\\nSpam CLEANED Email % Difference')\n",
    "# a = {}\n",
    "# for i in spam_sort_clean:\n",
    "#     if i == 'prospects':\n",
    "#         break\n",
    "#     if i in ham_sort_clean:\n",
    "#         val = spam_dic_clean[i] / spam_len - ham_dic_clean[i]/ham_len\n",
    "# #         if ham_dic[i]/ham_len < 0.15 and val > 0.25:\n",
    "#         if val > 0:\n",
    "#             a[i] = val\n",
    "# spam_clean_top = sorted(a, key=a.get, reverse=True)"
   ]
  },
  {
   "cell_type": "code",
   "execution_count": null,
   "metadata": {},
   "outputs": [],
   "source": []
  },
  {
   "cell_type": "code",
   "execution_count": 43,
   "metadata": {},
   "outputs": [],
   "source": [
    "# words = ['please','our','<html>','removed','now!']\n",
    "# for i in words:\n",
    "#     val = spam_dic[i] / spam_len - ham_dic[i]/ham_len\n",
    "#     print(i, 'val: ', val, 'spam: ', spam_dic[i] / spam_len, 'ham: ', ham_dic[i]/ham_len)"
   ]
  },
  {
   "cell_type": "code",
   "execution_count": 44,
   "metadata": {},
   "outputs": [],
   "source": [
    "# Email cleaned sorting. \n",
    "spam_dic = {} \n",
    "for i in range(spam_len):\n",
    "    email = spam.iloc[i].email.split()\n",
    "    for word in set(email):\n",
    "        if word in spam_dic:\n",
    "            spam_dic[word] += 1\n",
    "        else:\n",
    "            spam_dic[word] = 1\n",
    "spam_sorted = sorted(spam_dic, key=spam_dic.get, reverse=True)\n",
    "\n",
    "ham_dic = {} \n",
    "for i in range(ham_len):\n",
    "    email = ham.iloc[i].email.split()\n",
    "    for word in set(email):\n",
    "        if word in ham_dic:\n",
    "            ham_dic[word] += 1\n",
    "        else:\n",
    "            ham_dic[word] = 1\n",
    "ham_sorted = sorted(ham_dic, key=ham_dic.get, reverse=True)\n",
    "\n",
    "# Subject line word sorting. \n",
    "sub_dic = {}\n",
    "for i in range(spam_len):\n",
    "    sub = spam.iloc[i].subject.lower().split()\n",
    "    for word in sub:\n",
    "        if word in sub_dic:\n",
    "            sub_dic[word] += 1\n",
    "        else:\n",
    "            sub_dic[word] = 1\n",
    "sub_sorted = sorted(sub_dic, key=sub_dic.get, reverse=True)\n",
    "\n",
    "ham_sub_dic = {}\n",
    "for i in range(ham_len):\n",
    "    ham_sub = ham.iloc[i].subject.lower().split()\n",
    "    for word in ham_sub:\n",
    "        if word in ham_sub_dic:\n",
    "            ham_sub_dic[word] += 1\n",
    "        else:\n",
    "            ham_sub_dic[word] = 1\n",
    "ham_sub_sorted = sorted(ham_sub_dic, key=ham_sub_dic.get, reverse=True)"
   ]
  },
  {
   "cell_type": "code",
   "execution_count": 45,
   "metadata": {},
   "outputs": [
    {
     "data": {
      "image/png": "[encoded data removed]",
      "text/plain": [
       "<matplotlib.figure.Figure at 0x7f35af721240>"
      ]
     },
     "metadata": {},
     "output_type": "display_data"
    }
   ],
   "source": [
    "# Number of characters in the subject cleaned\n",
    "s = []\n",
    "for i in range(spam_len):\n",
    "    subject = spam.iloc[i].subject\n",
    "    l = sum(word != ' ' for word in subject)\n",
    "    s.append(l)\n",
    "    \n",
    "h = []\n",
    "for i in range(ham_len):\n",
    "    subject = ham.iloc[i].subject\n",
    "    l = sum(word != ' ' for word in subject)\n",
    "    h.append(l)\n",
    "    \n",
    "ax = sns.distplot(s, label='Spam');\n",
    "ax = sns.distplot(h, label='Ham');\n",
    "ax.set(xlabel='Char Count in Subject');\n",
    "ax.legend();"
   ]
  },
  {
   "cell_type": "code",
   "execution_count": 46,
   "metadata": {},
   "outputs": [
    {
     "data": {
      "image/png": "[encoded data removed]",
      "text/plain": [
       "<matplotlib.figure.Figure at 0x7f35a0a120f0>"
      ]
     },
     "metadata": {},
     "output_type": "display_data"
    }
   ],
   "source": [
    "# Number of characters in the subject cleaned\n",
    "s = []\n",
    "for i in range(spam_len):\n",
    "    subject = spam.iloc[i].subject_cleaned\n",
    "    l = sum(word != ' ' for word in subject)\n",
    "    s.append(l)\n",
    "    \n",
    "h = []\n",
    "for i in range(ham_len):\n",
    "    subject = ham.iloc[i].subject_cleaned\n",
    "    l = sum(word != ' ' for word in subject)\n",
    "    h.append(l)\n",
    "    \n",
    "ax = sns.distplot(s, label='Spam');\n",
    "ax = sns.distplot(h, label='Ham');\n",
    "ax.set(xlabel='Char Count in Subject Cleaned');\n",
    "ax.legend();"
   ]
  },
  {
   "cell_type": "code",
   "execution_count": 47,
   "metadata": {},
   "outputs": [
    {
     "data": {
      "image/png": "[encoded data removed]",
      "text/plain": [
       "<matplotlib.figure.Figure at 0x7f35a0b7ec18>"
      ]
     },
     "metadata": {},
     "output_type": "display_data"
    }
   ],
   "source": [
    "# Number of characters in the body / email. \n",
    "s = []\n",
    "for i in range(spam_len):\n",
    "    subject = spam.iloc[i].email\n",
    "    l = sum(word != ' ' for word in subject)\n",
    "    if l > 20000:\n",
    "        #print('big')\n",
    "        s.append(20000)\n",
    "    else: \n",
    "        s.append(l)\n",
    "    \n",
    "h = []\n",
    "for i in range(ham_len):\n",
    "    subject = ham.iloc[i].email\n",
    "    l = sum(word != ' ' for word in subject)\n",
    "    if l > 20000:\n",
    "        #print('big')\n",
    "        h.append(20000)\n",
    "    else: \n",
    "        h.append(l)\n",
    "    \n",
    "ax = sns.distplot(s, label='Spam');\n",
    "ax = sns.distplot(h, label='Ham');\n",
    "ax.set(xlabel='Char Count in Email');\n",
    "ax.legend();"
   ]
  },
  {
   "cell_type": "code",
   "execution_count": 48,
   "metadata": {},
   "outputs": [],
   "source": [
    "# # Number of characters in the body / email. CLEANED \n",
    "# body = []\n",
    "# body1 = []\n",
    "# for i in range(spam_len):\n",
    "#     email = spam.iloc[i].email_cleaned\n",
    "#     size = len(' '.join(email.split()))\n",
    "#     if size > 15000:\n",
    "#         body.append(15000)\n",
    "#     else:\n",
    "#         body.append(size)\n",
    "    \n",
    "# for i in range(ham_len):\n",
    "#     email = ham.iloc[i].email_cleaned\n",
    "#     size = len(' '.join(email.split()))\n",
    "#     if size > 15000:\n",
    "#         body1.append(15000)\n",
    "#     else:\n",
    "#         body1.append(size)\n",
    "\n",
    "# ax = sns.distplot(body, label='Spam');\n",
    "# ax = sns.distplot(body1, label='Ham');\n",
    "# ax.set(xlabel='Char Count in Cleaned Email');\n",
    "# ax.legend();"
   ]
  },
  {
   "cell_type": "code",
   "execution_count": null,
   "metadata": {},
   "outputs": [],
   "source": []
  },
  {
   "cell_type": "code",
   "execution_count": 49,
   "metadata": {},
   "outputs": [],
   "source": [
    "# Number of words in subject."
   ]
  },
  {
   "cell_type": "code",
   "execution_count": 50,
   "metadata": {},
   "outputs": [],
   "source": [
    "# Number of words in email."
   ]
  },
  {
   "cell_type": "code",
   "execution_count": 51,
   "metadata": {},
   "outputs": [
    {
     "data": {
      "image/png": "[encoded data removed]",
      "text/plain": [
       "<matplotlib.figure.Figure at 0x7f35a09767f0>"
      ]
     },
     "metadata": {},
     "output_type": "display_data"
    }
   ],
   "source": [
    "# Number of words in subject.\n",
    "ax = sns.distplot(spam.subj_len, label='Spam');\n",
    "ax = sns.distplot(ham.subj_len, label='Ham');\n",
    "ax.set(xlabel='Word Count in Subject');\n",
    "ax.legend();"
   ]
  },
  {
   "cell_type": "code",
   "execution_count": 52,
   "metadata": {},
   "outputs": [
    {
     "data": {
      "image/png": "[encoded data removed]",
      "text/plain": [
       "<matplotlib.figure.Figure at 0x7f35a0b91fd0>"
      ]
     },
     "metadata": {},
     "output_type": "display_data"
    }
   ],
   "source": [
    "# Number of words in email.\n",
    "ax = sns.distplot(spam.email_len, label='Spam');\n",
    "ax = sns.distplot(ham.email_len, label='Ham');\n",
    "ax.set(xlabel='Word Count in Email');\n",
    "ax.legend();"
   ]
  },
  {
   "cell_type": "code",
   "execution_count": 53,
   "metadata": {},
   "outputs": [],
   "source": [
    "# # Number of words in EMAIL CLEANED. \n",
    "# ax = sns.distplot(spam.email_cleaned_len, label='Spam');\n",
    "# ax = sns.distplot(ham.email_cleaned_len, label='Ham');\n",
    "# ax.set(xlabel='Word Count in Email Cleaned');\n",
    "# ax.legend();"
   ]
  },
  {
   "cell_type": "code",
   "execution_count": 54,
   "metadata": {},
   "outputs": [
    {
     "data": {
      "image/png": "[encoded data removed]",
      "text/plain": [
       "<matplotlib.figure.Figure at 0x7f35aa0b27b8>"
      ]
     },
     "metadata": {},
     "output_type": "display_data"
    }
   ],
   "source": [
    "# Count number of capital letters in subject line. \n",
    "train = train.reset_index()\n",
    "#train = train.drop(columns={'index'})\n",
    "l = list()\n",
    "m = list()\n",
    "for i in range(train.shape[0]):\n",
    "    total = 0\n",
    "    for c in train.iloc[i].subject_cleaned:\n",
    "        if c.isupper():\n",
    "            total += 1\n",
    "    if len(train.iloc[i].subject_cleaned) == 0:\n",
    "        l.append(0)\n",
    "        m.append(0)\n",
    "    else:\n",
    "        l.append(total/len(train.iloc[i].subject_cleaned))\n",
    "        m.append(total)\n",
    "train['sub_upper_perc'] = pd.Series(l)\n",
    "train['sub_upper_count'] = pd.Series(m)\n",
    "train = train.set_index('id')\n",
    "\n",
    "ax = sns.distplot(train[train['spam']==1].sub_upper_perc, label='Spam');\n",
    "ax = sns.distplot(train[train['spam']==0].sub_upper_perc, label='Ham');\n",
    "ax.set(xlabel='Subject Cleaned Upper Letter %');\n",
    "ax.legend();"
   ]
  },
  {
   "cell_type": "code",
   "execution_count": null,
   "metadata": {},
   "outputs": [],
   "source": []
  },
  {
   "cell_type": "code",
   "execution_count": 55,
   "metadata": {},
   "outputs": [],
   "source": [
    "# spam['e_marks'] = spam['email'].str.count('!')\n",
    "# ham['e_marks'] = ham['email'].str.count('!')\n",
    "# ax = sns.distplot(spam[spam.e_marks < 20].e_marks, label='Spam');\n",
    "# ax = sns.distplot(ham[ham.e_marks < 20].e_marks, label='Ham');\n",
    "# ax.set(xlabel='# of Exclamation Marks');\n",
    "# ax.legend();"
   ]
  },
  {
   "cell_type": "code",
   "execution_count": 56,
   "metadata": {},
   "outputs": [],
   "source": [
    "import copy\n",
    "combs = list()\n",
    "def combinations(target,data):\n",
    "    for i in range(len(data)):\n",
    "        new_target = copy.copy(target)\n",
    "        new_data = copy.copy(data)\n",
    "        new_target.append(data[i])\n",
    "        new_data = data[i+1:]\n",
    "        combs.append(new_target)\n",
    "        combinations(new_target,new_data)\n",
    "    return combs"
   ]
  },
  {
   "cell_type": "code",
   "execution_count": 57,
   "metadata": {},
   "outputs": [],
   "source": [
    "l = ['click','your','receive','we','<html>','<font','<td']\n",
    "    \n",
    "combs = combinations([],l)"
   ]
  },
  {
   "cell_type": "code",
   "execution_count": 58,
   "metadata": {},
   "outputs": [],
   "source": [
    "# d = {}\n",
    "# for i in combs:\n",
    "#     some_words = i\n",
    "#     Phi_train = words_in_texts(some_words, test.email) #7513,5\n",
    "#     Y_train = test.spam #7513\n",
    "\n",
    "#     from sklearn import linear_model\n",
    "#     lm = linear_model.LogisticRegression()\n",
    "#     lm.fit(Phi_train, Y_train)\n",
    "#     predictions = lm.predict(Phi_train)\n",
    "#     calc = sum(predictions == Y_train) / len(Y_train)\n",
    "#     #print(sum(predictions == Y_train) / len(Y_train))\n",
    "#     if calc > 0.825:\n",
    "#         d[' '.join(i)] = calc\n",
    "# for i in sorted(d, key=d.get, reverse=True):\n",
    "#     print(i, d[i])"
   ]
  },
  {
   "cell_type": "code",
   "execution_count": 59,
   "metadata": {},
   "outputs": [
    {
     "name": "stderr",
     "output_type": "stream",
     "text": [
      "/srv/conda/envs/data100/lib/python3.6/site-packages/ipykernel_launcher.py:15: SettingWithCopyWarning: \n",
      "A value is trying to be set on a copy of a slice from a DataFrame.\n",
      "Try using .loc[row_indexer,col_indexer] = value instead\n",
      "\n",
      "See the caveats in the documentation: http://pandas.pydata.org/pandas-docs/stable/indexing.html#indexing-view-versus-copy\n",
      "  from ipykernel import kernelapp as app\n",
      "/srv/conda/envs/data100/lib/python3.6/site-packages/ipykernel_launcher.py:16: SettingWithCopyWarning: \n",
      "A value is trying to be set on a copy of a slice from a DataFrame.\n",
      "Try using .loc[row_indexer,col_indexer] = value instead\n",
      "\n",
      "See the caveats in the documentation: http://pandas.pydata.org/pandas-docs/stable/indexing.html#indexing-view-versus-copy\n",
      "  app.launch_new_instance()\n"
     ]
    }
   ],
   "source": [
    "# def capital(val):\n",
    "#     # Adding capitalization % Feature\n",
    "#     train['email_upper_perc'] = train.email_upper.str.findall(r'[A-Z]').str.len()/train.email_upper.str.findall(r'[a-zA-Z]').str.len()\n",
    "#     train['email_greater'] = train['email_upper_perc'] > val\n",
    "\n",
    "#     test['email_upper_perc'] = test.email_upper.str.findall(r'[A-Z]').str.len()/test.email_upper.str.findall(r'[a-zA-Z]').str.len()\n",
    "#     test['email_greater'] = test['email_upper_perc'] > val\n",
    "\n",
    "#     evaluation['email_upper_perc'] = evaluation.email_upper.str.findall(r'[A-Z]').str.len()/evaluation.email_upper.str.findall(r'[a-zA-Z]').str.len()\n",
    "#     evaluation['email_greater'] = evaluation['email_upper_perc'] > val\n",
    "# Adding capitalization % Feature\n",
    "train['email_upper_perc'] = train.email_upper.str.findall(r'[A-Z]').str.len()/train.email_upper.str.findall(r'[a-zA-Z]').str.len()\n",
    "train['email_greater'] = train['email_upper_perc'] > 0.16\n",
    "\n",
    "test['email_upper_perc'] = test.email_upper.str.findall(r'[A-Z]').str.len()/test.email_upper.str.findall(r'[a-zA-Z]').str.len()\n",
    "test['email_greater'] = test['email_upper_perc'] > 0.16\n",
    "\n",
    "evaluation['email_upper_perc'] = evaluation.email_upper.str.findall(r'[A-Z]').str.len()/evaluation.email_upper.str.findall(r'[a-zA-Z]').str.len()\n",
    "evaluation['email_greater'] = evaluation['email_upper_perc'] > 0.16"
   ]
  },
  {
   "cell_type": "code",
   "execution_count": 61,
   "metadata": {},
   "outputs": [],
   "source": [
    "# Phi_train = words_in_texts(some_words, train.email)\n",
    "# p = words_in_texts(subj_words, train.email)\n",
    "# # Phi_train.shape #7513, 100\n",
    "# # i_train = np.concatenate((Phi_train,\n",
    "# #                            np.reshape(df[i], (-1, 1))),\n",
    "# #                           axis=1)\n",
    "# np.concatenate((Phi_train, p), axis=1).shape\n",
    "# #p.shape"
   ]
  },
  {
   "cell_type": "code",
   "execution_count": 62,
   "metadata": {},
   "outputs": [],
   "source": [
    "#np.concatenate((Phi_train_eval,np.reshape(train['email_greater'], (-1, 1))),axis=1)\n",
    "def concater(some_words, subj_words, df, col):\n",
    "    Phi_train = words_in_texts(some_words, df.email)\n",
    "    p = words_in_texts(subj_words, df.email)\n",
    "    Phi_train = np.concatenate((Phi_train, p), axis=1)\n",
    "    \n",
    "    for i in col:\n",
    "        Phi_train = np.concatenate((Phi_train,\n",
    "                           np.reshape(df[i], (-1, 1))),\n",
    "                          axis=1)\n",
    "    return Phi_train\n",
    "\n",
    "\n",
    "#np.concatenate((Phi_train_eval,np.reshape(train['email_greater'], (-1, 1))),axis=1)\n",
    "# def concater(some_words, df, col):\n",
    "#     Phi_train = words_in_texts(some_words, df.email)\n",
    "#    # p = words_in_texts(subj_words, df.email)\n",
    "#    # Phi_train = np.concatenate((Phi_train, p), axis=1)\n",
    "    \n",
    "#     for i in col:\n",
    "#         Phi_train = np.concatenate((Phi_train,\n",
    "#                            np.reshape(df[i], (-1, 1))),\n",
    "#                           axis=1)\n",
    "#     return Phi_train"
   ]
  },
  {
   "cell_type": "code",
   "execution_count": 63,
   "metadata": {},
   "outputs": [],
   "source": [
    "#print(spam_top[:400])\n",
    "#spam_top = ['our', 'your', 'please', '<a', 'we', '<html>', '</html>', '<font', 'click', '</body>', '<table', 'you', 'receive', 'email', '<td', 'removed', 'free', '</head>', '<tr>', 'will', '<br>', '<head>', '<body', '<meta', '</tr>', 'information', '<p', 'from', 'wish', '</table>', 'us', '</td>', '=', 'list,', 'below', '<p><font', 'this', 'reply', 'be', 'are', 'remove', 'business', 'helvetica,', 'or', 'content-transfer-encoding:', '<center>', '<div', 'money', 'contact', 'fill', 'here', 'content-type:', 'sans-serif\"', 'form', '<body>', 'no', 'within', 'address', 'best', 'sent', 'offer', 'content=3d\"text/html;', 'text/html;', 'credit', 'send', '</font><font', 'you.', 'marketing', 'call', 'by', 'link', 'charset=\"iso-8859-1\"', 'order', 'special', 'all', 'message', 'arial,', '</font>', 'e-mail', 'border=3d\"0\"', '<b><font', '</center>', '<td>', 'company', 'http-equiv=3d\"content-type\"', 'future', '<img', '</div>', 'receiving', 'help', 'per', 'low', 'over', 'million', 'mime', 'subject', 'thank', 'here:', 'multi-part', 'want', 'here</a>', 'financial', '</p>', 'simply', 'pay', 'width=3d\"100%\"', '&', 'dear', '100%', 'further', 'visit', 'name', 'format.', 'time', 'spamassassin-sightings@lists.sourceforge.net', 'https://lists.sourceforge.net/lists/listinfo/spamassassin-sightings', 'spamassassin-sightings', 'cash', 'now!', 'out', '<tbody>', 'offers', 'content=\"text/html;', 'for', '<form', 'quoted-printable', 'insurance', 'may', 'rates', 'emails', 'align=3d\"center\"', 'face=3d\"arial,', 'align=3d\"center\"><font', 'text/plain;', '--deathtospamdeathtospamdeathtospam--', 'opportunity', 'life', 'any', 'if', 'cellspacing=3d\"0\"', 'yourself', 'dollars', 'mailings', 'online', 'available', 'service', 'bgcolor=3d\"#ffffff\">', 'align=3d\"center\">', 'hundreds', 'go', 'hours', 'you,', 'with', 'name:', 'save', 'easy', '</form>', 'following', 'legal', 'investment', 'home', 'take', 'simple', '<p>&nbsp;</p>', '&amp;', 'purchase', 'days', '<input', 'face=\"arial\"', 'risk', 'income', 'http-equiv=\"content-type\"', 'align=\"center\">', 'interest', 'new', 'fax', 'program', 'do', 'cellpadding=3d\"0\"', 'yours', 'internet', 'include', 'lowest', 'base64', 'phone', 'request', 'allow', 'thousands', 'who', 'addresses', 'communication', 'provide', '\"-//w3c//dtd', 'border=\"0\"', 'cost', 'mortgage', 'received', '<!doctype', 'increase', 'private', 'size=3d\"2\"', 'frontpage', '.', 'opt-in', 'rate', 'absolutely', 'professional', 'sales', 'buy', 'price', 'cellpadding=3d\"2\"', '<tr>=20', 'bank', 'type=3d\"submit\"', 'products', 'removal', '<br><br>', 'size=\"2\"', 'web', 'phone:', 'state:', 'must', 'bgcolor=3d\"#ffffff\"', 'companies', 'full', 'today', 'width=3d\"550\"', 'account', 'type=3d\"hidden\"', 'guaranteed', 'product', 'method=3d\"post\"', 'list.', 'transitional//en\">', 'charset=\"windows-1252\"', 'charset=3diso-8859-1\">', 'e-mail:', 'lose', 'guarantee', 'sending', 'orders', 'size=3d\"1\"', 'limited', 'cellspacing=3d0', 'type=3d\"text\"', 'month', '3', 'site', 'only.', '7bit', 'united', '<p><b><font', '<td>=20', 'never', '100', '1', \"type=3d'hidden'\", '<hr', 'family', 'paid', 'valuable', '-', 'html', 'message.', 'instead,', 'access', 'and', 'these', 'width=3d\"43\"', 'year', 'quality', 'professionals.', 'color=3d\"#ffffff\"', 'public', 'monthly', 't', '4.0', 'ready', '24', 'sites', 'number', 'website', 'personal', ',', 'complete', 'money.', 'to', 'regarding', '2', 'learn', 'act', 'state', 'align=3d\"center\">=20', 'now', 'forward', '</ul>', 'unsubscribe', 'assistance', 'services', 'business.', 'proven', 'profitable', 'weight', 'age', 'size=3d\"2\">', 'charset=iso-8859-1\">', 'earn', 'need', 'size=\"1\"', 'great', 'huge', '5', 'you!', 'own', 'easily', 'market', 'notice', 'day', 'loan', 'e', 'customer', '<ul>', 'sell', 'loss', 'accept', 'feel', 'party', 'interested', 'card', 'can', 'below.', 'color:', 'direct', 'assist', '<tr', '</font></p>', 'response', 'transfer', 'government', '<td><img', 'immediately', 'advertising', '30', 'instructions', 'form.', 'total', 'them.', 'colspan=3d\"5\"', 'retail', 'u.s.', 'font-size:', 'align=\"center\"><font', 'letter', 'cellspacing=\"0\"', 'invest', '</style>', 'shipping', 'payment', 'more', '<b>do', 'color=3d\"#000000\"', 'prices', 'sum', 'get', 'millions', 'cellpadding=3d0', 'color=3d=', 'immediate', 'minutes', 'follow', 'telephone', 'one', 'cellspacing=3d\"2\"', 'foreign', 'secure', 'e-mails', 'font-family:', 'bgcolor=3d\"#cccccc\"', 'more!', 'protect', 'order,', '<p>', 'error,', 'today!', 'fund', 'states', 'compliance', 'independent', 'return', 'required', 'face=3d\"verdana\"', 'high', 'mail', 'federal', 'minute', 'growing', 'obtained', 'border=0', 'transaction', 'unsolicited']"
   ]
  },
  {
   "cell_type": "code",
   "execution_count": 64,
   "metadata": {},
   "outputs": [],
   "source": [
    "# cols = ['email_greater']\n",
    "\n",
    "# from sklearn import linear_model\n",
    "# lm = linear_model.LogisticRegression()\n",
    "# # spam_clean_t = spam_clean_top[:250]\n",
    "# spam_clean_t = spam_top[:525]\n",
    "# sub_words = subj_words[:10]\n",
    "# lm.fit(concater(spam_clean_t, sub_words, train, cols), train.spam) #change this to Phi_train or Phi_train_eval\n",
    "# predictions = lm.predict(concater(spam_clean_t, sub_words, test, cols))\n",
    "# sum(predictions == test.spam) / test.shape[0]\n",
    "\n",
    "# # 0.9449101796407186 [:100]\n",
    "# # 0.9796407185628743 [:400]\n",
    "# # 0.9844311377245509 [:500] -> 0.98 on kaggle \n",
    "# # 0.98562874251497 [:525]\n",
    "# # 0.98562874251497 [:525], [:200]\n"
   ]
  },
  {
   "cell_type": "code",
   "execution_count": 65,
   "metadata": {
    "scrolled": true
   },
   "outputs": [
    {
     "name": "stderr",
     "output_type": "stream",
     "text": [
      "/srv/conda/envs/data100/lib/python3.6/site-packages/numpy/core/fromnumeric.py:57: FutureWarning: reshape is deprecated and will raise in a subsequent release. Please use .values.reshape(...) instead\n",
      "  return getattr(obj, method)(*args, **kwds)\n"
     ]
    }
   ],
   "source": [
    "cols = ['email_greater']\n",
    "eval_words = spam_top[:525]\n",
    "\n",
    "from sklearn import linear_model\n",
    "lm = linear_model.LogisticRegression()\n",
    "lm.fit(concater(eval_words, subj_words[:10], train, cols), train.spam)\n",
    "evaluation_predictions = lm.predict(concater(eval_words, subj_words[:10], evaluation, cols))"
   ]
  },
  {
   "cell_type": "code",
   "execution_count": null,
   "metadata": {},
   "outputs": [],
   "source": []
  },
  {
   "cell_type": "markdown",
   "metadata": {
    "deletable": false,
    "editable": false,
    "nbgrader": {
     "cell_type": "markdown",
     "checksum": "55580b1682a53b3d3bab8e3d6b928973",
     "grade": false,
     "grade_id": "q7",
     "locked": true,
     "schema_version": 2,
     "solution": false
    }
   },
   "source": [
    "# Question 7 (Feature/Model Selection Process)\n",
    "\n",
    "In this following cell, describe the process of improving your model. You should use at least 2-3 sentences each to address the follow questions:\n",
    "\n",
    "1. How did you find better features for your model?\n",
    "2. What did you try that worked / didn't work?\n",
    "3. What was surprising in your search for good features?"
   ]
  },
  {
   "cell_type": "markdown",
   "metadata": {
    "deletable": false,
    "nbgrader": {
     "cell_type": "markdown",
     "checksum": "939e6a5a273ced9801a7c510aac0cde4",
     "grade": true,
     "grade_id": "q7-written",
     "locked": false,
     "points": 6,
     "schema_version": 2,
     "solution": true
    },
    "tags": [
     "student",
     "written",
     "q_feature"
    ]
   },
   "source": [
    "1. I created a dictionary of words for each of the emails for spam and ham, and then calculated the difference between frequency of the words. I then iterated through the test predictions to find a good set of words, of which I chose the top 100. Additionally, I made several graphs of various ideas, such as capital letters, exclamation marks, parsing through the subject line, and more.\n",
    "\n",
    "2. Using words from a dictionary as mentioned above worked really well. Additionally, finding the % of capital letters worked pretty well as well. Using unique words for the subject line didn't work as well, but instead decreasing my testing accuracy.\n",
    "\n",
    "3. For the good features, I thought the graphs would have a much greater disparity between exclamation marks for spam vs ham, and I also expected the data to be much cleaned if I parsed through using an HTML cleaner to remove all the HTML encoding. Instead, I found that the most efficient form for good features depended upon a mixture of removal of HTML tags for cleaning the emails, and the normal parsing through from the emails including the HTML."
   ]
  },
  {
   "cell_type": "markdown",
   "metadata": {
    "deletable": false,
    "editable": false,
    "nbgrader": {
     "cell_type": "markdown",
     "checksum": "60b1230b3da1ce9160009cccef25dd8d",
     "grade": false,
     "grade_id": "q8",
     "locked": true,
     "schema_version": 2,
     "solution": false
    }
   },
   "source": [
    "# Question 8 (EDA)\n",
    "\n",
    "In the two cells below, show a visualization that you used to select features for your model. Include both\n",
    "\n",
    "1. A plot showing something meaningful about the data that helped you during feature / model selection.\n",
    "2. 2-3 sentences describing what you plotted and what its implications are for your features.\n",
    "\n",
    "Feel to create as many plots as you want in your process of feature selection, but select one for the cells below.\n",
    "\n",
    "**You should not show us a visualization just like in question 3.** Specifically, don't show us a bar chart of proportions, or a one-dimensional class conditional density plot. Any other plot is acceptable, as long as it comes with thoughtful commentary. Here are some ideas:\n",
    "\n",
    "1. Consider the correlation between multiple features (look up correlation plots and `sns.heatmap`). \n",
    "1. Try to show redundancy in a group of features (e.g. `body` and `html` might co-occur relatively frequently, or you might be able to design a feature that captures all html tags and compare it to these). \n",
    "1. Use a word-cloud or another visualization tool to characterize the most common spam words.\n",
    "1. Visually depict whether spam emails tend to be wordier (in some sense) than ham emails."
   ]
  },
  {
   "cell_type": "code",
   "execution_count": 66,
   "metadata": {},
   "outputs": [
    {
     "name": "stdout",
     "output_type": "stream",
     "text": [
      "Requirement already satisfied: WordCloud in /srv/conda/envs/data100/lib/python3.6/site-packages\n",
      "Requirement already satisfied: numpy>=1.6.1 in /srv/conda/envs/data100/lib/python3.6/site-packages (from WordCloud)\n",
      "Requirement already satisfied: matplotlib in /srv/conda/envs/data100/lib/python3.6/site-packages (from WordCloud)\n",
      "Requirement already satisfied: pillow in /srv/conda/envs/data100/lib/python3.6/site-packages (from WordCloud)\n",
      "Requirement already satisfied: six>=1.10 in /srv/conda/envs/data100/lib/python3.6/site-packages (from matplotlib->WordCloud)\n",
      "Requirement already satisfied: python-dateutil>=2.0 in /srv/conda/envs/data100/lib/python3.6/site-packages (from matplotlib->WordCloud)\n",
      "Requirement already satisfied: pytz in /srv/conda/envs/data100/lib/python3.6/site-packages (from matplotlib->WordCloud)\n",
      "Requirement already satisfied: cycler>=0.10 in /srv/conda/envs/data100/lib/python3.6/site-packages (from matplotlib->WordCloud)\n",
      "Requirement already satisfied: pyparsing!=2.0.4,!=2.1.2,!=2.1.6,>=2.0.1 in /srv/conda/envs/data100/lib/python3.6/site-packages (from matplotlib->WordCloud)\n",
      "\u001b[33mYou are using pip version 9.0.1, however version 10.0.1 is available.\n",
      "You should consider upgrading via the 'pip install --upgrade pip' command.\u001b[0m\n"
     ]
    }
   ],
   "source": [
    "!pip install WordCloud"
   ]
  },
  {
   "cell_type": "code",
   "execution_count": 67,
   "metadata": {},
   "outputs": [],
   "source": [
    "# Simple WordCloud\n",
    "from os import path\n",
    "from scipy.misc import imread\n",
    "import matplotlib.pyplot as plt\n",
    "import random\n",
    "\n",
    "from wordcloud import WordCloud, STOPWORDS"
   ]
  },
  {
   "cell_type": "code",
   "execution_count": 68,
   "metadata": {
    "deletable": false,
    "nbgrader": {
     "cell_type": "code",
     "checksum": "94f71f52acc1ddc1af721de03dddc841",
     "grade": true,
     "grade_id": "q8-eda",
     "locked": false,
     "points": 3,
     "schema_version": 2,
     "solution": true
    },
    "tags": [
     "student",
     "written",
     "q_eda1"
    ]
   },
   "outputs": [
    {
     "data": {
      "image/png": "[encoded data removed]",
      "text/plain": [
       "<matplotlib.figure.Figure at 0x7f35af6be208>"
      ]
     },
     "metadata": {},
     "output_type": "display_data"
    }
   ],
   "source": [
    "text = train.email.iloc[:1000].str.cat(sep=\" \")\n",
    "wordcloud = WordCloud(width=800, height=400,\n",
    "                      relative_scaling = 1.0,\n",
    "                      stopwords = {'to', 'of'}).generate(text)\n",
    "plt.figure( figsize=(20,10) )\n",
    "plt.imshow(wordcloud)\n",
    "plt.axis(\"off\")\n",
    "plt.show()"
   ]
  },
  {
   "cell_type": "markdown",
   "metadata": {
    "deletable": false,
    "nbgrader": {
     "cell_type": "markdown",
     "checksum": "6d76d0efe11b5d997378ac902d04f7c1",
     "grade": true,
     "grade_id": "q8-commentary",
     "locked": false,
     "points": 3,
     "schema_version": 2,
     "solution": true
    }
   },
   "source": [
    "For this visualization, I made a wordcloud utilizing the emails. Around the midpoint of the project, I had been using only the words from emails which had been parsed of HTML tags, leaving behind only words that were without HTML headers and tags. However, this visualization helped me to realize that perhaps it will be much more helpful to use the HTML tags and headers as well. "
   ]
  },
  {
   "cell_type": "markdown",
   "metadata": {
    "deletable": false,
    "editable": false,
    "nbgrader": {
     "cell_type": "markdown",
     "checksum": "99200fdbaff3f814a5c7685c862989d9",
     "grade": false,
     "grade_id": "q9",
     "locked": true,
     "schema_version": 2,
     "solution": false
    }
   },
   "source": [
    "# Question 9 (Making a Precision-Recall Curve)\n",
    "\n",
    "We can trade off between precision and recall. In most cases we won't be able to get both perfect precision (i.e. no false positives) and recall (i.e. no false negatives), so we have to compromise. For example, in the case of cancer screenings, false negatives are comparatively worse than false positives — a false negative means that a patient might not discover a disease until it's too late to treat, while a false positive means that a patient will probably have to take another screening.\n",
    "\n",
    "Recall that logistic regression calculates the probability that an example belongs to a certain class. Then, to classify an example we say that an email is spam if our classifier gives it $\\ge 0.5$ probability of being spam. However, *we can adjust that cutoff*: we can say that an email is spam only if our classifier gives it $\\ge 0.7$ probability of being spam, for example. This is how we can trade off false positives and false negatives.\n",
    "\n",
    "The precision-recall curve shows this trade off for each possible cutoff probability. In the cell below, [plot a precision-recall curve](http://scikit-learn.org/stable/auto_examples/model_selection/plot_precision_recall.html#plot-the-precision-recall-curve) for your final classifier (the one you use to make predictions for Kaggle)."
   ]
  },
  {
   "cell_type": "code",
   "execution_count": 69,
   "metadata": {
    "deletable": false,
    "nbgrader": {
     "cell_type": "code",
     "checksum": "8aed6cd26a59c471f66756ebb5e8bc51",
     "grade": true,
     "grade_id": "q9-roc-curve",
     "locked": false,
     "points": 3,
     "schema_version": 2,
     "solution": true
    },
    "tags": [
     "student",
     "written",
     "q_roc"
    ]
   },
   "outputs": [],
   "source": [
    "from sklearn.metrics import precision_recall_curve\n",
    "\n",
    "# Note that you'll want to use the .predict_proba(...) method for your classifier\n",
    "# instead of .predict(...) so you get probabilities, not classes"
   ]
  },
  {
   "cell_type": "code",
   "execution_count": null,
   "metadata": {},
   "outputs": [],
   "source": []
  },
  {
   "cell_type": "markdown",
   "metadata": {
    "deletable": false,
    "editable": false,
    "nbgrader": {
     "cell_type": "markdown",
     "checksum": "6f241f96a5f0b08ae0392d96660d109d",
     "grade": false,
     "grade_id": "q10",
     "locked": true,
     "schema_version": 2,
     "solution": false
    }
   },
   "source": [
    "# Question 10: Submitting to Kaggle\n",
    "\n",
    "The following code will write your predictions on the evaluation dataset to a CSV, which you can submit to Kaggle. You may need to modify it to suit your needs.\n",
    "\n",
    "Save your predictions in a 1-dimensional array called `evaluation_predictions`. *Even if you are not submitting to Kaggle, please make sure you've saved your predictions to `evaluation_predictions` as this is how your grade for this part will be determined.*\n",
    "\n",
    "Remember that if you've performed transformations or featurization on the training data, you must also perform the same transformations on the evaluation data in order to make predictions. For example, if you've created features for the words \"drug\" and \"money\" on the training data, you must also extract the same features in order to use scikit-learn's `.predict(...)` method.\n",
    "\n",
    "You should submit your CSV files to https://www.kaggle.com/t/39fae66747b14fd48fe0984f2e4f16ac"
   ]
  },
  {
   "cell_type": "code",
   "execution_count": 70,
   "metadata": {
    "deletable": false,
    "nbgrader": {
     "cell_type": "code",
     "checksum": "7a2abb910f7ef354666d7e39daed7454",
     "grade": false,
     "grade_id": "q10-answer",
     "locked": false,
     "schema_version": 2,
     "solution": true
    }
   },
   "outputs": [],
   "source": [
    "# # CHANGE ME (Currently making random predictions)\n",
    "# evaluation_predictions = lm.predict(Phi_train_eval)"
   ]
  },
  {
   "cell_type": "code",
   "execution_count": 71,
   "metadata": {
    "deletable": false,
    "editable": false,
    "nbgrader": {
     "cell_type": "code",
     "checksum": "5005948ef8f43a714dad71e48c71bb8a",
     "grade": true,
     "grade_id": "q10-tests",
     "locked": true,
     "points": 1,
     "schema_version": 2,
     "solution": false
    }
   },
   "outputs": [],
   "source": [
    "# must be ndarray of predictions\n",
    "assert isinstance(evaluation_predictions, np.ndarray) \n",
    "\n",
    "# must be binary labels (0 or 1) and not probabilities\n",
    "assert np.all((evaluation_predictions == 0) | (evaluation_predictions == 1))\n",
    "\n",
    "# must be the right number of predictions\n",
    "assert evaluation_predictions.shape == (1000, )"
   ]
  },
  {
   "cell_type": "code",
   "execution_count": 72,
   "metadata": {
    "deletable": false,
    "editable": false,
    "nbgrader": {
     "cell_type": "code",
     "checksum": "9dfffe9e2d4d757b84e8d3601b5e5dd9",
     "grade": true,
     "grade_id": "q10-hidden-tests",
     "locked": true,
     "points": 4,
     "schema_version": 2,
     "solution": false
    }
   },
   "outputs": [],
   "source": [
    "# Please do not modify this cell"
   ]
  },
  {
   "cell_type": "markdown",
   "metadata": {
    "deletable": false,
    "editable": false,
    "nbgrader": {
     "cell_type": "markdown",
     "checksum": "f08c87d79dbcfed4134d2f56fda5b1fa",
     "grade": false,
     "grade_id": "cell-d15e30e2a961277d",
     "locked": true,
     "schema_version": 2,
     "solution": false
    }
   },
   "source": [
    "The following saves a file to submit to Kaggle."
   ]
  },
  {
   "cell_type": "code",
   "execution_count": 73,
   "metadata": {},
   "outputs": [],
   "source": [
    "# from datetime import datetime\n",
    "\n",
    "# # Assuming that your predictions on the evaluation set are stored in a 1-dimensional array called\n",
    "# # evaluation_predictions. Feel free to modify this cell as long you create a CSV in the right format.\n",
    "\n",
    "# # must be ndarray of predictions\n",
    "# assert isinstance(evaluation_predictions, np.ndarray) \n",
    "\n",
    "# # must be binary labels (0 or 1) and not probabilities\n",
    "# assert np.all((evaluation_predictions == 0) | (evaluation_predictions == 1))\n",
    "\n",
    "# # must be the right number of predictions\n",
    "# assert evaluation_predictions.shape == (1000, )\n",
    "\n",
    "# # Construct and save the submission:\n",
    "# submission_df = pd.DataFrame({\n",
    "#     \"Id\": evaluation['id'], \n",
    "#     \"Class\": evaluation_predictions,\n",
    "# }, columns=['Id', 'Class'])\n",
    "# timestamp = datetime.isoformat(datetime.now()).split(\".\")[0]\n",
    "# submission_df.to_csv(\"submission_{}.csv\".format(timestamp), index=False)\n",
    "\n",
    "# print('Created a CSV file: {}.'.format(\"submission_{}.csv\".format(timestamp)))\n",
    "# print('You may now upload this CSV file to Kaggle for scoring.')"
   ]
  }
 ],
 "metadata": {
  "kernelspec": {
   "display_name": "Python 3",
   "language": "python",
   "name": "python3"
  },
  "language_info": {
   "codemirror_mode": {
    "name": "ipython",
    "version": 3
   },
   "file_extension": ".py",
   "mimetype": "text/x-python",
   "name": "python",
   "nbconvert_exporter": "python",
   "pygments_lexer": "ipython3",
   "version": "3.6.4"
  }
 },
 "nbformat": 4,
 "nbformat_minor": 2
}
